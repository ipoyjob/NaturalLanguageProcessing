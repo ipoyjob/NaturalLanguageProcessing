{
  "nbformat": 4,
  "nbformat_minor": 0,
  "metadata": {
    "colab": {
      "name": "NLP Tubes 1.ipynb",
      "provenance": [],
      "toc_visible": true
    },
    "kernelspec": {
      "name": "python3",
      "display_name": "Python 3"
    },
    "language_info": {
      "name": "python"
    }
  },
  "cells": [
    {
      "cell_type": "code",
      "execution_count": null,
      "metadata": {
        "id": "6rzK00nHYelI"
      },
      "outputs": [],
      "source": [
        "import pandas as pd\n",
        "import numpy as np\n",
        "from time import time\n",
        "import nltk\n",
        "import re\n",
        "import multiprocessing\n",
        "from nltk.tokenize import word_tokenize\n",
        "from nltk.stem import WordNetLemmatizer\n",
        "from nltk.stem import PorterStemmer\n",
        "from nltk.corpus import stopwords\n",
        "from datetime import datetime\n",
        "import matplotlib.pyplot as plt\n",
        "%matplotlib inline\n",
        "import seaborn as sns\n",
        "from nltk.util import ngrams\n",
        "from collections import defaultdict, Counter\n",
        "from gensim.models import Word2Vec\n",
        "from gensim.models.phrases import Phrases, Phraser\n",
        "from sklearn import preprocessing, decomposition, model_selection, metrics, pipeline\n",
        "from sklearn.preprocessing import LabelEncoder\n",
        "from sklearn.feature_extraction.text import CountVectorizer, TfidfVectorizer\n",
        "from sklearn.model_selection import train_test_split\n",
        "from sklearn.metrics import accuracy_score, precision_score, recall_score, f1_score\n",
        "from sklearn.metrics import confusion_matrix, classification_report\n",
        "from sklearn.metrics import mean_squared_error\n",
        "from sklearn.ensemble import RandomForestClassifier\n",
        "from sklearn.metrics import roc_auc_score\n",
        "import warnings\n",
        "warnings.simplefilter(action='ignore', category=FutureWarning)"
      ]
    },
    {
      "cell_type": "code",
      "source": [
        "nltk.download('punkt')\n",
        "nltk.download('wordnet')\n",
        "nltk.download('stopwords')\n",
        "nltk.download('averaged_perceptron_tagger')"
      ],
      "metadata": {
        "colab": {
          "base_uri": "https://localhost:8080/"
        },
        "id": "9l9UcfO8hf3c",
        "outputId": "1c884527-09b0-42af-eea0-0e0cee52086b"
      },
      "execution_count": null,
      "outputs": [
        {
          "output_type": "stream",
          "name": "stdout",
          "text": [
            "[nltk_data] Downloading package punkt to /root/nltk_data...\n",
            "[nltk_data]   Package punkt is already up-to-date!\n",
            "[nltk_data] Downloading package wordnet to /root/nltk_data...\n",
            "[nltk_data]   Package wordnet is already up-to-date!\n",
            "[nltk_data] Downloading package stopwords to /root/nltk_data...\n",
            "[nltk_data]   Package stopwords is already up-to-date!\n",
            "[nltk_data] Downloading package averaged_perceptron_tagger to\n",
            "[nltk_data]     /root/nltk_data...\n",
            "[nltk_data]   Package averaged_perceptron_tagger is already up-to-\n",
            "[nltk_data]       date!\n"
          ]
        },
        {
          "output_type": "execute_result",
          "data": {
            "text/plain": [
              "True"
            ]
          },
          "metadata": {},
          "execution_count": 272
        }
      ]
    },
    {
      "cell_type": "code",
      "source": [
        "from google.colab import drive\n",
        "drive.mount('/content/drive')"
      ],
      "metadata": {
        "colab": {
          "base_uri": "https://localhost:8080/"
        },
        "id": "bxmiME9EhiLR",
        "outputId": "75d9a00d-e637-4524-f61f-b62c62bef7b1"
      },
      "execution_count": null,
      "outputs": [
        {
          "output_type": "stream",
          "name": "stdout",
          "text": [
            "Drive already mounted at /content/drive; to attempt to forcibly remount, call drive.mount(\"/content/drive\", force_remount=True).\n"
          ]
        }
      ]
    },
    {
      "cell_type": "code",
      "source": [
        "df = pd.read_csv(\"/content/drive/MyDrive/NLP/Kindle Book Review.csv\", encoding=\"utf-8\")\n",
        "df.head()"
      ],
      "metadata": {
        "colab": {
          "base_uri": "https://localhost:8080/",
          "height": 310
        },
        "id": "oVfKGcnlh4DZ",
        "outputId": "959b91c7-7a1c-419d-a637-66471408289c"
      },
      "execution_count": null,
      "outputs": [
        {
          "output_type": "execute_result",
          "data": {
            "text/html": [
              "<div>\n",
              "<style scoped>\n",
              "    .dataframe tbody tr th:only-of-type {\n",
              "        vertical-align: middle;\n",
              "    }\n",
              "\n",
              "    .dataframe tbody tr th {\n",
              "        vertical-align: top;\n",
              "    }\n",
              "\n",
              "    .dataframe thead th {\n",
              "        text-align: right;\n",
              "    }\n",
              "</style>\n",
              "<table border=\"1\" class=\"dataframe\">\n",
              "  <thead>\n",
              "    <tr style=\"text-align: right;\">\n",
              "      <th></th>\n",
              "      <th>Unnamed: 0</th>\n",
              "      <th>Unnamed: 0.1</th>\n",
              "      <th>asin</th>\n",
              "      <th>helpful</th>\n",
              "      <th>rating</th>\n",
              "      <th>reviewText</th>\n",
              "      <th>reviewTime</th>\n",
              "      <th>reviewerID</th>\n",
              "      <th>reviewerName</th>\n",
              "      <th>summary</th>\n",
              "      <th>unixReviewTime</th>\n",
              "    </tr>\n",
              "  </thead>\n",
              "  <tbody>\n",
              "    <tr>\n",
              "      <th>0</th>\n",
              "      <td>0</td>\n",
              "      <td>11539</td>\n",
              "      <td>B0033UV8HI</td>\n",
              "      <td>[8, 10]</td>\n",
              "      <td>3</td>\n",
              "      <td>Jace Rankin may be short, but he's nothing to ...</td>\n",
              "      <td>09 2, 2010</td>\n",
              "      <td>A3HHXRELK8BHQG</td>\n",
              "      <td>Ridley</td>\n",
              "      <td>Entertaining But Average</td>\n",
              "      <td>1283385600</td>\n",
              "    </tr>\n",
              "    <tr>\n",
              "      <th>1</th>\n",
              "      <td>1</td>\n",
              "      <td>5957</td>\n",
              "      <td>B002HJV4DE</td>\n",
              "      <td>[1, 1]</td>\n",
              "      <td>5</td>\n",
              "      <td>Great short read.  I didn't want to put it dow...</td>\n",
              "      <td>10 8, 2013</td>\n",
              "      <td>A2RGNZ0TRF578I</td>\n",
              "      <td>Holly Butler</td>\n",
              "      <td>Terrific menage scenes!</td>\n",
              "      <td>1381190400</td>\n",
              "    </tr>\n",
              "    <tr>\n",
              "      <th>2</th>\n",
              "      <td>2</td>\n",
              "      <td>9146</td>\n",
              "      <td>B002ZG96I4</td>\n",
              "      <td>[0, 0]</td>\n",
              "      <td>3</td>\n",
              "      <td>I'll start by saying this is the first of four...</td>\n",
              "      <td>04 11, 2014</td>\n",
              "      <td>A3S0H2HV6U1I7F</td>\n",
              "      <td>Merissa</td>\n",
              "      <td>Snapdragon Alley</td>\n",
              "      <td>1397174400</td>\n",
              "    </tr>\n",
              "    <tr>\n",
              "      <th>3</th>\n",
              "      <td>3</td>\n",
              "      <td>7038</td>\n",
              "      <td>B002QHWOEU</td>\n",
              "      <td>[1, 3]</td>\n",
              "      <td>3</td>\n",
              "      <td>Aggie is Angela Lansbury who carries pocketboo...</td>\n",
              "      <td>07 5, 2014</td>\n",
              "      <td>AC4OQW3GZ919J</td>\n",
              "      <td>Cleargrace</td>\n",
              "      <td>very light murder cozy</td>\n",
              "      <td>1404518400</td>\n",
              "    </tr>\n",
              "    <tr>\n",
              "      <th>4</th>\n",
              "      <td>4</td>\n",
              "      <td>1776</td>\n",
              "      <td>B001A06VJ8</td>\n",
              "      <td>[0, 1]</td>\n",
              "      <td>4</td>\n",
              "      <td>I did not expect this type of book to be in li...</td>\n",
              "      <td>12 31, 2012</td>\n",
              "      <td>A3C9V987IQHOQD</td>\n",
              "      <td>Rjostler</td>\n",
              "      <td>Book</td>\n",
              "      <td>1356912000</td>\n",
              "    </tr>\n",
              "  </tbody>\n",
              "</table>\n",
              "</div>"
            ],
            "text/plain": [
              "   Unnamed: 0  Unnamed: 0.1  ...                   summary unixReviewTime\n",
              "0           0         11539  ...  Entertaining But Average     1283385600\n",
              "1           1          5957  ...   Terrific menage scenes!     1381190400\n",
              "2           2          9146  ...          Snapdragon Alley     1397174400\n",
              "3           3          7038  ...    very light murder cozy     1404518400\n",
              "4           4          1776  ...                      Book     1356912000\n",
              "\n",
              "[5 rows x 11 columns]"
            ]
          },
          "metadata": {},
          "execution_count": 274
        }
      ]
    },
    {
      "cell_type": "markdown",
      "source": [
        "# Problem Statement"
      ],
      "metadata": {
        "id": "X6birpvRyo0X"
      }
    },
    {
      "cell_type": "markdown",
      "source": [
        "Terdapat sebuah data yang berisikan tentang review dan perasaan pembaca terhadap sebuah buku kindle. Mereka juga memberikan rating terhadap buku tersebut. Kemudian akan dilakukan klasifikasi terhadap data tersebut berdasarkan rating yang mereka berikan, dan dilakukannya prediksi dengan review baru\n",
        "Metadata\n",
        "\n",
        "asin = ID dari produk\n",
        "\n",
        "helpful - menunjukkan seberapa membantu rating yang diberikan contoh: 2/3.\n",
        "\n",
        "overall - Rating dari produk.\n",
        "\n",
        "reviewText - review dari user.\n",
        "\n",
        "reviewTime - waktu yang digunakan saat mereview.\n",
        "\n",
        "reviewerID - ID dari reviewer\n",
        "\n",
        "reviewerName - nama dari reviewer.\n",
        "\n",
        "summary - catatan singkat dari reviewer.\n",
        "\n",
        "unixReviewTime - timestamp."
      ],
      "metadata": {
        "id": "er7yvRgNyrvH"
      }
    },
    {
      "cell_type": "code",
      "source": [
        "def ubah_rating(rating):\n",
        "  if rating >=4:\n",
        "    return 1\n",
        "  elif rating <= 3:\n",
        "    return 0"
      ],
      "metadata": {
        "id": "cKErKAZlic2H"
      },
      "execution_count": null,
      "outputs": []
    },
    {
      "cell_type": "code",
      "source": [
        "df['rating_prep'] = df.rating.apply(lambda x: ubah_rating(int(x)))\n",
        "df.head()"
      ],
      "metadata": {
        "colab": {
          "base_uri": "https://localhost:8080/",
          "height": 327
        },
        "id": "iUpvRT54iksL",
        "outputId": "bfba5a19-ddf2-4b0a-8a50-890c364426df"
      },
      "execution_count": null,
      "outputs": [
        {
          "output_type": "execute_result",
          "data": {
            "text/html": [
              "<div>\n",
              "<style scoped>\n",
              "    .dataframe tbody tr th:only-of-type {\n",
              "        vertical-align: middle;\n",
              "    }\n",
              "\n",
              "    .dataframe tbody tr th {\n",
              "        vertical-align: top;\n",
              "    }\n",
              "\n",
              "    .dataframe thead th {\n",
              "        text-align: right;\n",
              "    }\n",
              "</style>\n",
              "<table border=\"1\" class=\"dataframe\">\n",
              "  <thead>\n",
              "    <tr style=\"text-align: right;\">\n",
              "      <th></th>\n",
              "      <th>Unnamed: 0</th>\n",
              "      <th>Unnamed: 0.1</th>\n",
              "      <th>asin</th>\n",
              "      <th>helpful</th>\n",
              "      <th>rating</th>\n",
              "      <th>reviewText</th>\n",
              "      <th>reviewTime</th>\n",
              "      <th>reviewerID</th>\n",
              "      <th>reviewerName</th>\n",
              "      <th>summary</th>\n",
              "      <th>unixReviewTime</th>\n",
              "      <th>rating_prep</th>\n",
              "    </tr>\n",
              "  </thead>\n",
              "  <tbody>\n",
              "    <tr>\n",
              "      <th>0</th>\n",
              "      <td>0</td>\n",
              "      <td>11539</td>\n",
              "      <td>B0033UV8HI</td>\n",
              "      <td>[8, 10]</td>\n",
              "      <td>3</td>\n",
              "      <td>Jace Rankin may be short, but he's nothing to ...</td>\n",
              "      <td>09 2, 2010</td>\n",
              "      <td>A3HHXRELK8BHQG</td>\n",
              "      <td>Ridley</td>\n",
              "      <td>Entertaining But Average</td>\n",
              "      <td>1283385600</td>\n",
              "      <td>0</td>\n",
              "    </tr>\n",
              "    <tr>\n",
              "      <th>1</th>\n",
              "      <td>1</td>\n",
              "      <td>5957</td>\n",
              "      <td>B002HJV4DE</td>\n",
              "      <td>[1, 1]</td>\n",
              "      <td>5</td>\n",
              "      <td>Great short read.  I didn't want to put it dow...</td>\n",
              "      <td>10 8, 2013</td>\n",
              "      <td>A2RGNZ0TRF578I</td>\n",
              "      <td>Holly Butler</td>\n",
              "      <td>Terrific menage scenes!</td>\n",
              "      <td>1381190400</td>\n",
              "      <td>1</td>\n",
              "    </tr>\n",
              "    <tr>\n",
              "      <th>2</th>\n",
              "      <td>2</td>\n",
              "      <td>9146</td>\n",
              "      <td>B002ZG96I4</td>\n",
              "      <td>[0, 0]</td>\n",
              "      <td>3</td>\n",
              "      <td>I'll start by saying this is the first of four...</td>\n",
              "      <td>04 11, 2014</td>\n",
              "      <td>A3S0H2HV6U1I7F</td>\n",
              "      <td>Merissa</td>\n",
              "      <td>Snapdragon Alley</td>\n",
              "      <td>1397174400</td>\n",
              "      <td>0</td>\n",
              "    </tr>\n",
              "    <tr>\n",
              "      <th>3</th>\n",
              "      <td>3</td>\n",
              "      <td>7038</td>\n",
              "      <td>B002QHWOEU</td>\n",
              "      <td>[1, 3]</td>\n",
              "      <td>3</td>\n",
              "      <td>Aggie is Angela Lansbury who carries pocketboo...</td>\n",
              "      <td>07 5, 2014</td>\n",
              "      <td>AC4OQW3GZ919J</td>\n",
              "      <td>Cleargrace</td>\n",
              "      <td>very light murder cozy</td>\n",
              "      <td>1404518400</td>\n",
              "      <td>0</td>\n",
              "    </tr>\n",
              "    <tr>\n",
              "      <th>4</th>\n",
              "      <td>4</td>\n",
              "      <td>1776</td>\n",
              "      <td>B001A06VJ8</td>\n",
              "      <td>[0, 1]</td>\n",
              "      <td>4</td>\n",
              "      <td>I did not expect this type of book to be in li...</td>\n",
              "      <td>12 31, 2012</td>\n",
              "      <td>A3C9V987IQHOQD</td>\n",
              "      <td>Rjostler</td>\n",
              "      <td>Book</td>\n",
              "      <td>1356912000</td>\n",
              "      <td>1</td>\n",
              "    </tr>\n",
              "  </tbody>\n",
              "</table>\n",
              "</div>"
            ],
            "text/plain": [
              "   Unnamed: 0  Unnamed: 0.1  ... unixReviewTime rating_prep\n",
              "0           0         11539  ...     1283385600           0\n",
              "1           1          5957  ...     1381190400           1\n",
              "2           2          9146  ...     1397174400           0\n",
              "3           3          7038  ...     1404518400           0\n",
              "4           4          1776  ...     1356912000           1\n",
              "\n",
              "[5 rows x 12 columns]"
            ]
          },
          "metadata": {},
          "execution_count": 276
        }
      ]
    },
    {
      "cell_type": "code",
      "source": [
        "target_cnt = Counter(df.rating_prep)\n",
        "\n",
        "plt.figure(figsize=(16,8))\n",
        "plt.bar(target_cnt.keys(), target_cnt.values())\n",
        "plt.title(\"Dataset rating distribution\")"
      ],
      "metadata": {
        "colab": {
          "base_uri": "https://localhost:8080/",
          "height": 517
        },
        "id": "rRW9YqM2kLc2",
        "outputId": "93765537-a5fe-4a23-f232-bbbabf66cbdd"
      },
      "execution_count": null,
      "outputs": [
        {
          "output_type": "execute_result",
          "data": {
            "text/plain": [
              "Text(0.5, 1.0, 'Dataset rating distribution')"
            ]
          },
          "metadata": {},
          "execution_count": 277
        },
        {
          "output_type": "display_data",
          "data": {
            "image/png": "[encoded data removed]",
            "text/plain": [
              "<Figure size 1152x576 with 1 Axes>"
            ]
          },
          "metadata": {
            "needs_background": "light"
          }
        }
      ]
    },
    {
      "cell_type": "code",
      "source": [
        "df_rev = df[['reviewText','rating_prep']]\n",
        "df_rev.head()"
      ],
      "metadata": {
        "colab": {
          "base_uri": "https://localhost:8080/",
          "height": 206
        },
        "id": "4YLMhkqckkk0",
        "outputId": "1a3811d8-18db-44e4-a36f-20cf411cae5b"
      },
      "execution_count": null,
      "outputs": [
        {
          "output_type": "execute_result",
          "data": {
            "text/html": [
              "<div>\n",
              "<style scoped>\n",
              "    .dataframe tbody tr th:only-of-type {\n",
              "        vertical-align: middle;\n",
              "    }\n",
              "\n",
              "    .dataframe tbody tr th {\n",
              "        vertical-align: top;\n",
              "    }\n",
              "\n",
              "    .dataframe thead th {\n",
              "        text-align: right;\n",
              "    }\n",
              "</style>\n",
              "<table border=\"1\" class=\"dataframe\">\n",
              "  <thead>\n",
              "    <tr style=\"text-align: right;\">\n",
              "      <th></th>\n",
              "      <th>reviewText</th>\n",
              "      <th>rating_prep</th>\n",
              "    </tr>\n",
              "  </thead>\n",
              "  <tbody>\n",
              "    <tr>\n",
              "      <th>0</th>\n",
              "      <td>Jace Rankin may be short, but he's nothing to ...</td>\n",
              "      <td>0</td>\n",
              "    </tr>\n",
              "    <tr>\n",
              "      <th>1</th>\n",
              "      <td>Great short read.  I didn't want to put it dow...</td>\n",
              "      <td>1</td>\n",
              "    </tr>\n",
              "    <tr>\n",
              "      <th>2</th>\n",
              "      <td>I'll start by saying this is the first of four...</td>\n",
              "      <td>0</td>\n",
              "    </tr>\n",
              "    <tr>\n",
              "      <th>3</th>\n",
              "      <td>Aggie is Angela Lansbury who carries pocketboo...</td>\n",
              "      <td>0</td>\n",
              "    </tr>\n",
              "    <tr>\n",
              "      <th>4</th>\n",
              "      <td>I did not expect this type of book to be in li...</td>\n",
              "      <td>1</td>\n",
              "    </tr>\n",
              "  </tbody>\n",
              "</table>\n",
              "</div>"
            ],
            "text/plain": [
              "                                          reviewText  rating_prep\n",
              "0  Jace Rankin may be short, but he's nothing to ...            0\n",
              "1  Great short read.  I didn't want to put it dow...            1\n",
              "2  I'll start by saying this is the first of four...            0\n",
              "3  Aggie is Angela Lansbury who carries pocketboo...            0\n",
              "4  I did not expect this type of book to be in li...            1"
            ]
          },
          "metadata": {},
          "execution_count": 278
        }
      ]
    },
    {
      "cell_type": "code",
      "source": [
        "df_rev.info()"
      ],
      "metadata": {
        "colab": {
          "base_uri": "https://localhost:8080/"
        },
        "id": "501OVpcHlCh4",
        "outputId": "a3c3fd31-6c98-41d6-d24a-8eb00ba7a4b3"
      },
      "execution_count": null,
      "outputs": [
        {
          "output_type": "stream",
          "name": "stdout",
          "text": [
            "<class 'pandas.core.frame.DataFrame'>\n",
            "RangeIndex: 12000 entries, 0 to 11999\n",
            "Data columns (total 2 columns):\n",
            " #   Column       Non-Null Count  Dtype \n",
            "---  ------       --------------  ----- \n",
            " 0   reviewText   12000 non-null  object\n",
            " 1   rating_prep  12000 non-null  int64 \n",
            "dtypes: int64(1), object(1)\n",
            "memory usage: 187.6+ KB\n"
          ]
        }
      ]
    },
    {
      "cell_type": "code",
      "source": [
        "# cek duplicated data\n",
        "duplicates = df_rev[df_rev.duplicated()]\n",
        "duplicates"
      ],
      "metadata": {
        "colab": {
          "base_uri": "https://localhost:8080/",
          "height": 50
        },
        "id": "VmVPE1Znlq3X",
        "outputId": "39141d49-8712-4852-fa1d-da8dbee95b25"
      },
      "execution_count": null,
      "outputs": [
        {
          "output_type": "execute_result",
          "data": {
            "text/html": [
              "<div>\n",
              "<style scoped>\n",
              "    .dataframe tbody tr th:only-of-type {\n",
              "        vertical-align: middle;\n",
              "    }\n",
              "\n",
              "    .dataframe tbody tr th {\n",
              "        vertical-align: top;\n",
              "    }\n",
              "\n",
              "    .dataframe thead th {\n",
              "        text-align: right;\n",
              "    }\n",
              "</style>\n",
              "<table border=\"1\" class=\"dataframe\">\n",
              "  <thead>\n",
              "    <tr style=\"text-align: right;\">\n",
              "      <th></th>\n",
              "      <th>reviewText</th>\n",
              "      <th>rating_prep</th>\n",
              "    </tr>\n",
              "  </thead>\n",
              "  <tbody>\n",
              "  </tbody>\n",
              "</table>\n",
              "</div>"
            ],
            "text/plain": [
              "Empty DataFrame\n",
              "Columns: [reviewText, rating_prep]\n",
              "Index: []"
            ]
          },
          "metadata": {},
          "execution_count": 280
        }
      ]
    },
    {
      "cell_type": "code",
      "source": [
        "df_rev.isnull().sum()"
      ],
      "metadata": {
        "colab": {
          "base_uri": "https://localhost:8080/"
        },
        "id": "QUn43lOnzQd6",
        "outputId": "0c175441-afcf-4e47-f5be-9b9276f77374"
      },
      "execution_count": null,
      "outputs": [
        {
          "output_type": "execute_result",
          "data": {
            "text/plain": [
              "reviewText     0\n",
              "rating_prep    0\n",
              "dtype: int64"
            ]
          },
          "metadata": {},
          "execution_count": 281
        }
      ]
    },
    {
      "cell_type": "markdown",
      "source": [
        "# PREPROCESSING"
      ],
      "metadata": {
        "id": "mOE0TS4snQux"
      }
    },
    {
      "cell_type": "markdown",
      "source": [
        "### LOWER CASTING"
      ],
      "metadata": {
        "id": "K92TsS0anTMo"
      }
    },
    {
      "cell_type": "code",
      "source": [
        "# menyeragamkan semua text menjadi lowercase\n",
        "list_lower =['reviewText']\n",
        "\n",
        "for i in list_lower:\n",
        "  df_rev[i] = df_rev[i].apply(lambda x: x.lower())\n",
        "\n",
        "df_rev.head()"
      ],
      "metadata": {
        "colab": {
          "base_uri": "https://localhost:8080/",
          "height": 316
        },
        "id": "_fWbIlNkn0Tv",
        "outputId": "d5991d0f-d27b-4c05-b523-eee168457dce"
      },
      "execution_count": null,
      "outputs": [
        {
          "output_type": "stream",
          "name": "stderr",
          "text": [
            "/usr/local/lib/python3.7/dist-packages/ipykernel_launcher.py:5: SettingWithCopyWarning: \n",
            "A value is trying to be set on a copy of a slice from a DataFrame.\n",
            "Try using .loc[row_indexer,col_indexer] = value instead\n",
            "\n",
            "See the caveats in the documentation: https://pandas.pydata.org/pandas-docs/stable/user_guide/indexing.html#returning-a-view-versus-a-copy\n",
            "  \"\"\"\n"
          ]
        },
        {
          "output_type": "execute_result",
          "data": {
            "text/html": [
              "<div>\n",
              "<style scoped>\n",
              "    .dataframe tbody tr th:only-of-type {\n",
              "        vertical-align: middle;\n",
              "    }\n",
              "\n",
              "    .dataframe tbody tr th {\n",
              "        vertical-align: top;\n",
              "    }\n",
              "\n",
              "    .dataframe thead th {\n",
              "        text-align: right;\n",
              "    }\n",
              "</style>\n",
              "<table border=\"1\" class=\"dataframe\">\n",
              "  <thead>\n",
              "    <tr style=\"text-align: right;\">\n",
              "      <th></th>\n",
              "      <th>reviewText</th>\n",
              "      <th>rating_prep</th>\n",
              "    </tr>\n",
              "  </thead>\n",
              "  <tbody>\n",
              "    <tr>\n",
              "      <th>0</th>\n",
              "      <td>jace rankin may be short, but he's nothing to ...</td>\n",
              "      <td>0</td>\n",
              "    </tr>\n",
              "    <tr>\n",
              "      <th>1</th>\n",
              "      <td>great short read.  i didn't want to put it dow...</td>\n",
              "      <td>1</td>\n",
              "    </tr>\n",
              "    <tr>\n",
              "      <th>2</th>\n",
              "      <td>i'll start by saying this is the first of four...</td>\n",
              "      <td>0</td>\n",
              "    </tr>\n",
              "    <tr>\n",
              "      <th>3</th>\n",
              "      <td>aggie is angela lansbury who carries pocketboo...</td>\n",
              "      <td>0</td>\n",
              "    </tr>\n",
              "    <tr>\n",
              "      <th>4</th>\n",
              "      <td>i did not expect this type of book to be in li...</td>\n",
              "      <td>1</td>\n",
              "    </tr>\n",
              "  </tbody>\n",
              "</table>\n",
              "</div>"
            ],
            "text/plain": [
              "                                          reviewText  rating_prep\n",
              "0  jace rankin may be short, but he's nothing to ...            0\n",
              "1  great short read.  i didn't want to put it dow...            1\n",
              "2  i'll start by saying this is the first of four...            0\n",
              "3  aggie is angela lansbury who carries pocketboo...            0\n",
              "4  i did not expect this type of book to be in li...            1"
            ]
          },
          "metadata": {},
          "execution_count": 282
        }
      ]
    },
    {
      "cell_type": "markdown",
      "source": [
        "### Removing unwanted char"
      ],
      "metadata": {
        "id": "7AZXEkdXoQiP"
      }
    },
    {
      "cell_type": "code",
      "source": [
        "# menghilangkan format html\n",
        "html_tag = re.compile(r'<.*?>')\n",
        "# menghilangkan format URL\n",
        "http_link = re.compile(r'https://\\S+')\n",
        "www_link = re.compile(r'www\\.\\S+')\n",
        "# menghilangkan tanda baca\n",
        "punct = re.compile(r\"[^\\w\\s]\")\n",
        "# menghilangkan angka\n",
        "number = re.compile(r\"\\d\")\n",
        "# menghilangkan double spasi\n",
        "space = re.compile(r\"\\s\\s+\")\n",
        "\n",
        "def clean_data(text):\n",
        "    text = re.sub(html_tag, r\" \", text)\n",
        "    text = re.sub(http_link, r\" \", text)\n",
        "    text = re.sub(www_link, r\" \", text)\n",
        "    text = re.sub(punct, r\" \", text)\n",
        "    text = re.sub(number, r\" \", text)\n",
        "    text = re.sub(space, r\"\", text)\n",
        "    return text"
      ],
      "metadata": {
        "id": "Lc42ANXPn_KF"
      },
      "execution_count": null,
      "outputs": []
    },
    {
      "cell_type": "code",
      "source": [
        "df_rev['no_unwanted'] = df_rev['reviewText'].apply(lambda x: clean_data(x))\n",
        "df_rev.head()"
      ],
      "metadata": {
        "colab": {
          "base_uri": "https://localhost:8080/",
          "height": 316
        },
        "id": "I-sPdchVoE4y",
        "outputId": "949a56e6-6ad8-436d-bc01-105f11f6ed67"
      },
      "execution_count": null,
      "outputs": [
        {
          "output_type": "stream",
          "name": "stderr",
          "text": [
            "/usr/local/lib/python3.7/dist-packages/ipykernel_launcher.py:1: SettingWithCopyWarning: \n",
            "A value is trying to be set on a copy of a slice from a DataFrame.\n",
            "Try using .loc[row_indexer,col_indexer] = value instead\n",
            "\n",
            "See the caveats in the documentation: https://pandas.pydata.org/pandas-docs/stable/user_guide/indexing.html#returning-a-view-versus-a-copy\n",
            "  \"\"\"Entry point for launching an IPython kernel.\n"
          ]
        },
        {
          "output_type": "execute_result",
          "data": {
            "text/html": [
              "<div>\n",
              "<style scoped>\n",
              "    .dataframe tbody tr th:only-of-type {\n",
              "        vertical-align: middle;\n",
              "    }\n",
              "\n",
              "    .dataframe tbody tr th {\n",
              "        vertical-align: top;\n",
              "    }\n",
              "\n",
              "    .dataframe thead th {\n",
              "        text-align: right;\n",
              "    }\n",
              "</style>\n",
              "<table border=\"1\" class=\"dataframe\">\n",
              "  <thead>\n",
              "    <tr style=\"text-align: right;\">\n",
              "      <th></th>\n",
              "      <th>reviewText</th>\n",
              "      <th>rating_prep</th>\n",
              "      <th>no_unwanted</th>\n",
              "    </tr>\n",
              "  </thead>\n",
              "  <tbody>\n",
              "    <tr>\n",
              "      <th>0</th>\n",
              "      <td>jace rankin may be short, but he's nothing to ...</td>\n",
              "      <td>0</td>\n",
              "      <td>jace rankin may be shortbut he s nothing to me...</td>\n",
              "    </tr>\n",
              "    <tr>\n",
              "      <th>1</th>\n",
              "      <td>great short read.  i didn't want to put it dow...</td>\n",
              "      <td>1</td>\n",
              "      <td>great short readi didn t want to put it down s...</td>\n",
              "    </tr>\n",
              "    <tr>\n",
              "      <th>2</th>\n",
              "      <td>i'll start by saying this is the first of four...</td>\n",
              "      <td>0</td>\n",
              "      <td>i ll start by saying this is the first of four...</td>\n",
              "    </tr>\n",
              "    <tr>\n",
              "      <th>3</th>\n",
              "      <td>aggie is angela lansbury who carries pocketboo...</td>\n",
              "      <td>0</td>\n",
              "      <td>aggie is angela lansbury who carries pocketboo...</td>\n",
              "    </tr>\n",
              "    <tr>\n",
              "      <th>4</th>\n",
              "      <td>i did not expect this type of book to be in li...</td>\n",
              "      <td>1</td>\n",
              "      <td>i did not expect this type of book to be in li...</td>\n",
              "    </tr>\n",
              "  </tbody>\n",
              "</table>\n",
              "</div>"
            ],
            "text/plain": [
              "                                          reviewText  ...                                        no_unwanted\n",
              "0  jace rankin may be short, but he's nothing to ...  ...  jace rankin may be shortbut he s nothing to me...\n",
              "1  great short read.  i didn't want to put it dow...  ...  great short readi didn t want to put it down s...\n",
              "2  i'll start by saying this is the first of four...  ...  i ll start by saying this is the first of four...\n",
              "3  aggie is angela lansbury who carries pocketboo...  ...  aggie is angela lansbury who carries pocketboo...\n",
              "4  i did not expect this type of book to be in li...  ...  i did not expect this type of book to be in li...\n",
              "\n",
              "[5 rows x 3 columns]"
            ]
          },
          "metadata": {},
          "execution_count": 284
        }
      ]
    },
    {
      "cell_type": "markdown",
      "source": [
        "### Tokenization"
      ],
      "metadata": {
        "id": "qmhhwV6WoaKI"
      }
    },
    {
      "cell_type": "code",
      "source": [
        "df_rev['token'] = df_rev['no_unwanted'].apply(lambda x: word_tokenize(x))\n",
        "df_rev.head()"
      ],
      "metadata": {
        "colab": {
          "base_uri": "https://localhost:8080/",
          "height": 316
        },
        "id": "RAI3kEjUoMTd",
        "outputId": "943c9752-20c3-4acf-b7f2-f0cce285424e"
      },
      "execution_count": null,
      "outputs": [
        {
          "output_type": "stream",
          "name": "stderr",
          "text": [
            "/usr/local/lib/python3.7/dist-packages/ipykernel_launcher.py:1: SettingWithCopyWarning: \n",
            "A value is trying to be set on a copy of a slice from a DataFrame.\n",
            "Try using .loc[row_indexer,col_indexer] = value instead\n",
            "\n",
            "See the caveats in the documentation: https://pandas.pydata.org/pandas-docs/stable/user_guide/indexing.html#returning-a-view-versus-a-copy\n",
            "  \"\"\"Entry point for launching an IPython kernel.\n"
          ]
        },
        {
          "output_type": "execute_result",
          "data": {
            "text/html": [
              "<div>\n",
              "<style scoped>\n",
              "    .dataframe tbody tr th:only-of-type {\n",
              "        vertical-align: middle;\n",
              "    }\n",
              "\n",
              "    .dataframe tbody tr th {\n",
              "        vertical-align: top;\n",
              "    }\n",
              "\n",
              "    .dataframe thead th {\n",
              "        text-align: right;\n",
              "    }\n",
              "</style>\n",
              "<table border=\"1\" class=\"dataframe\">\n",
              "  <thead>\n",
              "    <tr style=\"text-align: right;\">\n",
              "      <th></th>\n",
              "      <th>reviewText</th>\n",
              "      <th>rating_prep</th>\n",
              "      <th>no_unwanted</th>\n",
              "      <th>token</th>\n",
              "    </tr>\n",
              "  </thead>\n",
              "  <tbody>\n",
              "    <tr>\n",
              "      <th>0</th>\n",
              "      <td>jace rankin may be short, but he's nothing to ...</td>\n",
              "      <td>0</td>\n",
              "      <td>jace rankin may be shortbut he s nothing to me...</td>\n",
              "      <td>[jace, rankin, may, be, shortbut, he, s, nothi...</td>\n",
              "    </tr>\n",
              "    <tr>\n",
              "      <th>1</th>\n",
              "      <td>great short read.  i didn't want to put it dow...</td>\n",
              "      <td>1</td>\n",
              "      <td>great short readi didn t want to put it down s...</td>\n",
              "      <td>[great, short, readi, didn, t, want, to, put, ...</td>\n",
              "    </tr>\n",
              "    <tr>\n",
              "      <th>2</th>\n",
              "      <td>i'll start by saying this is the first of four...</td>\n",
              "      <td>0</td>\n",
              "      <td>i ll start by saying this is the first of four...</td>\n",
              "      <td>[i, ll, start, by, saying, this, is, the, firs...</td>\n",
              "    </tr>\n",
              "    <tr>\n",
              "      <th>3</th>\n",
              "      <td>aggie is angela lansbury who carries pocketboo...</td>\n",
              "      <td>0</td>\n",
              "      <td>aggie is angela lansbury who carries pocketboo...</td>\n",
              "      <td>[aggie, is, angela, lansbury, who, carries, po...</td>\n",
              "    </tr>\n",
              "    <tr>\n",
              "      <th>4</th>\n",
              "      <td>i did not expect this type of book to be in li...</td>\n",
              "      <td>1</td>\n",
              "      <td>i did not expect this type of book to be in li...</td>\n",
              "      <td>[i, did, not, expect, this, type, of, book, to...</td>\n",
              "    </tr>\n",
              "  </tbody>\n",
              "</table>\n",
              "</div>"
            ],
            "text/plain": [
              "                                          reviewText  ...                                              token\n",
              "0  jace rankin may be short, but he's nothing to ...  ...  [jace, rankin, may, be, shortbut, he, s, nothi...\n",
              "1  great short read.  i didn't want to put it dow...  ...  [great, short, readi, didn, t, want, to, put, ...\n",
              "2  i'll start by saying this is the first of four...  ...  [i, ll, start, by, saying, this, is, the, firs...\n",
              "3  aggie is angela lansbury who carries pocketboo...  ...  [aggie, is, angela, lansbury, who, carries, po...\n",
              "4  i did not expect this type of book to be in li...  ...  [i, did, not, expect, this, type, of, book, to...\n",
              "\n",
              "[5 rows x 4 columns]"
            ]
          },
          "metadata": {},
          "execution_count": 285
        }
      ]
    },
    {
      "cell_type": "markdown",
      "source": [
        "### Stemming n Lemmanization"
      ],
      "metadata": {
        "id": "8TagJD1s_hT7"
      }
    },
    {
      "cell_type": "code",
      "source": [
        "# stemming menggunakan NLTK\n",
        "ps = PorterStemmer()\n",
        "df_rev['stem'] = df_rev['token'].apply(lambda x: [ps.stem(word) for word in x])\n",
        "df_rev.head()"
      ],
      "metadata": {
        "colab": {
          "base_uri": "https://localhost:8080/",
          "height": 367
        },
        "id": "oGE_rhDC_nX2",
        "outputId": "971878ae-7d45-4b06-99b2-61ab2e08c436"
      },
      "execution_count": null,
      "outputs": [
        {
          "output_type": "stream",
          "name": "stderr",
          "text": [
            "/usr/local/lib/python3.7/dist-packages/ipykernel_launcher.py:3: SettingWithCopyWarning: \n",
            "A value is trying to be set on a copy of a slice from a DataFrame.\n",
            "Try using .loc[row_indexer,col_indexer] = value instead\n",
            "\n",
            "See the caveats in the documentation: https://pandas.pydata.org/pandas-docs/stable/user_guide/indexing.html#returning-a-view-versus-a-copy\n",
            "  This is separate from the ipykernel package so we can avoid doing imports until\n"
          ]
        },
        {
          "output_type": "execute_result",
          "data": {
            "text/html": [
              "<div>\n",
              "<style scoped>\n",
              "    .dataframe tbody tr th:only-of-type {\n",
              "        vertical-align: middle;\n",
              "    }\n",
              "\n",
              "    .dataframe tbody tr th {\n",
              "        vertical-align: top;\n",
              "    }\n",
              "\n",
              "    .dataframe thead th {\n",
              "        text-align: right;\n",
              "    }\n",
              "</style>\n",
              "<table border=\"1\" class=\"dataframe\">\n",
              "  <thead>\n",
              "    <tr style=\"text-align: right;\">\n",
              "      <th></th>\n",
              "      <th>reviewText</th>\n",
              "      <th>rating_prep</th>\n",
              "      <th>no_unwanted</th>\n",
              "      <th>token</th>\n",
              "      <th>stem</th>\n",
              "    </tr>\n",
              "  </thead>\n",
              "  <tbody>\n",
              "    <tr>\n",
              "      <th>0</th>\n",
              "      <td>jace rankin may be short, but he's nothing to ...</td>\n",
              "      <td>0</td>\n",
              "      <td>jace rankin may be shortbut he s nothing to me...</td>\n",
              "      <td>[jace, rankin, may, be, shortbut, he, s, nothi...</td>\n",
              "      <td>[jace, rankin, may, be, shortbut, he, s, noth,...</td>\n",
              "    </tr>\n",
              "    <tr>\n",
              "      <th>1</th>\n",
              "      <td>great short read.  i didn't want to put it dow...</td>\n",
              "      <td>1</td>\n",
              "      <td>great short readi didn t want to put it down s...</td>\n",
              "      <td>[great, short, readi, didn, t, want, to, put, ...</td>\n",
              "      <td>[great, short, readi, didn, t, want, to, put, ...</td>\n",
              "    </tr>\n",
              "    <tr>\n",
              "      <th>2</th>\n",
              "      <td>i'll start by saying this is the first of four...</td>\n",
              "      <td>0</td>\n",
              "      <td>i ll start by saying this is the first of four...</td>\n",
              "      <td>[i, ll, start, by, saying, this, is, the, firs...</td>\n",
              "      <td>[i, ll, start, by, say, thi, is, the, first, o...</td>\n",
              "    </tr>\n",
              "    <tr>\n",
              "      <th>3</th>\n",
              "      <td>aggie is angela lansbury who carries pocketboo...</td>\n",
              "      <td>0</td>\n",
              "      <td>aggie is angela lansbury who carries pocketboo...</td>\n",
              "      <td>[aggie, is, angela, lansbury, who, carries, po...</td>\n",
              "      <td>[aggi, is, angela, lansburi, who, carri, pocke...</td>\n",
              "    </tr>\n",
              "    <tr>\n",
              "      <th>4</th>\n",
              "      <td>i did not expect this type of book to be in li...</td>\n",
              "      <td>1</td>\n",
              "      <td>i did not expect this type of book to be in li...</td>\n",
              "      <td>[i, did, not, expect, this, type, of, book, to...</td>\n",
              "      <td>[i, did, not, expect, thi, type, of, book, to,...</td>\n",
              "    </tr>\n",
              "  </tbody>\n",
              "</table>\n",
              "</div>"
            ],
            "text/plain": [
              "                                          reviewText  ...                                               stem\n",
              "0  jace rankin may be short, but he's nothing to ...  ...  [jace, rankin, may, be, shortbut, he, s, noth,...\n",
              "1  great short read.  i didn't want to put it dow...  ...  [great, short, readi, didn, t, want, to, put, ...\n",
              "2  i'll start by saying this is the first of four...  ...  [i, ll, start, by, say, thi, is, the, first, o...\n",
              "3  aggie is angela lansbury who carries pocketboo...  ...  [aggi, is, angela, lansburi, who, carri, pocke...\n",
              "4  i did not expect this type of book to be in li...  ...  [i, did, not, expect, thi, type, of, book, to,...\n",
              "\n",
              "[5 rows x 5 columns]"
            ]
          },
          "metadata": {},
          "execution_count": 286
        }
      ]
    },
    {
      "cell_type": "code",
      "source": [
        "# lemmatization menggunakan NLTK\n",
        "lemmatizer = WordNetLemmatizer()\n",
        "df_rev['lemmatize'] = df_rev['stem'].apply(lambda x: [lemmatizer.lemmatize(word) for word in x])\n",
        "df_rev.head()"
      ],
      "metadata": {
        "colab": {
          "base_uri": "https://localhost:8080/",
          "height": 403
        },
        "id": "fTZ_8X5D_qU4",
        "outputId": "8f6863e2-de00-4431-b47d-942581e3bffb"
      },
      "execution_count": null,
      "outputs": [
        {
          "output_type": "stream",
          "name": "stderr",
          "text": [
            "/usr/local/lib/python3.7/dist-packages/ipykernel_launcher.py:3: SettingWithCopyWarning: \n",
            "A value is trying to be set on a copy of a slice from a DataFrame.\n",
            "Try using .loc[row_indexer,col_indexer] = value instead\n",
            "\n",
            "See the caveats in the documentation: https://pandas.pydata.org/pandas-docs/stable/user_guide/indexing.html#returning-a-view-versus-a-copy\n",
            "  This is separate from the ipykernel package so we can avoid doing imports until\n"
          ]
        },
        {
          "output_type": "execute_result",
          "data": {
            "text/html": [
              "<div>\n",
              "<style scoped>\n",
              "    .dataframe tbody tr th:only-of-type {\n",
              "        vertical-align: middle;\n",
              "    }\n",
              "\n",
              "    .dataframe tbody tr th {\n",
              "        vertical-align: top;\n",
              "    }\n",
              "\n",
              "    .dataframe thead th {\n",
              "        text-align: right;\n",
              "    }\n",
              "</style>\n",
              "<table border=\"1\" class=\"dataframe\">\n",
              "  <thead>\n",
              "    <tr style=\"text-align: right;\">\n",
              "      <th></th>\n",
              "      <th>reviewText</th>\n",
              "      <th>rating_prep</th>\n",
              "      <th>no_unwanted</th>\n",
              "      <th>token</th>\n",
              "      <th>stem</th>\n",
              "      <th>lemmatize</th>\n",
              "    </tr>\n",
              "  </thead>\n",
              "  <tbody>\n",
              "    <tr>\n",
              "      <th>0</th>\n",
              "      <td>jace rankin may be short, but he's nothing to ...</td>\n",
              "      <td>0</td>\n",
              "      <td>jace rankin may be shortbut he s nothing to me...</td>\n",
              "      <td>[jace, rankin, may, be, shortbut, he, s, nothi...</td>\n",
              "      <td>[jace, rankin, may, be, shortbut, he, s, noth,...</td>\n",
              "      <td>[jace, rankin, may, be, shortbut, he, s, noth,...</td>\n",
              "    </tr>\n",
              "    <tr>\n",
              "      <th>1</th>\n",
              "      <td>great short read.  i didn't want to put it dow...</td>\n",
              "      <td>1</td>\n",
              "      <td>great short readi didn t want to put it down s...</td>\n",
              "      <td>[great, short, readi, didn, t, want, to, put, ...</td>\n",
              "      <td>[great, short, readi, didn, t, want, to, put, ...</td>\n",
              "      <td>[great, short, readi, didn, t, want, to, put, ...</td>\n",
              "    </tr>\n",
              "    <tr>\n",
              "      <th>2</th>\n",
              "      <td>i'll start by saying this is the first of four...</td>\n",
              "      <td>0</td>\n",
              "      <td>i ll start by saying this is the first of four...</td>\n",
              "      <td>[i, ll, start, by, saying, this, is, the, firs...</td>\n",
              "      <td>[i, ll, start, by, say, thi, is, the, first, o...</td>\n",
              "      <td>[i, ll, start, by, say, thi, is, the, first, o...</td>\n",
              "    </tr>\n",
              "    <tr>\n",
              "      <th>3</th>\n",
              "      <td>aggie is angela lansbury who carries pocketboo...</td>\n",
              "      <td>0</td>\n",
              "      <td>aggie is angela lansbury who carries pocketboo...</td>\n",
              "      <td>[aggie, is, angela, lansbury, who, carries, po...</td>\n",
              "      <td>[aggi, is, angela, lansburi, who, carri, pocke...</td>\n",
              "      <td>[aggi, is, angela, lansburi, who, carri, pocke...</td>\n",
              "    </tr>\n",
              "    <tr>\n",
              "      <th>4</th>\n",
              "      <td>i did not expect this type of book to be in li...</td>\n",
              "      <td>1</td>\n",
              "      <td>i did not expect this type of book to be in li...</td>\n",
              "      <td>[i, did, not, expect, this, type, of, book, to...</td>\n",
              "      <td>[i, did, not, expect, thi, type, of, book, to,...</td>\n",
              "      <td>[i, did, not, expect, thi, type, of, book, to,...</td>\n",
              "    </tr>\n",
              "  </tbody>\n",
              "</table>\n",
              "</div>"
            ],
            "text/plain": [
              "                                          reviewText  ...                                          lemmatize\n",
              "0  jace rankin may be short, but he's nothing to ...  ...  [jace, rankin, may, be, shortbut, he, s, noth,...\n",
              "1  great short read.  i didn't want to put it dow...  ...  [great, short, readi, didn, t, want, to, put, ...\n",
              "2  i'll start by saying this is the first of four...  ...  [i, ll, start, by, say, thi, is, the, first, o...\n",
              "3  aggie is angela lansbury who carries pocketboo...  ...  [aggi, is, angela, lansburi, who, carri, pocke...\n",
              "4  i did not expect this type of book to be in li...  ...  [i, did, not, expect, thi, type, of, book, to,...\n",
              "\n",
              "[5 rows x 6 columns]"
            ]
          },
          "metadata": {},
          "execution_count": 287
        }
      ]
    },
    {
      "cell_type": "markdown",
      "source": [
        "### Stopword Removal"
      ],
      "metadata": {
        "id": "5G9j28haBD9S"
      }
    },
    {
      "cell_type": "code",
      "source": [
        "stop_words = set(stopwords.words('english'))\n",
        "stop_words"
      ],
      "metadata": {
        "colab": {
          "base_uri": "https://localhost:8080/"
        },
        "id": "6bDNu13uBIB4",
        "outputId": "da97e4da-985e-4a07-a243-66521a69be5e"
      },
      "execution_count": null,
      "outputs": [
        {
          "output_type": "execute_result",
          "data": {
            "text/plain": [
              "{'a',\n",
              " 'about',\n",
              " 'above',\n",
              " 'after',\n",
              " 'again',\n",
              " 'against',\n",
              " 'ain',\n",
              " 'all',\n",
              " 'am',\n",
              " 'an',\n",
              " 'and',\n",
              " 'any',\n",
              " 'are',\n",
              " 'aren',\n",
              " \"aren't\",\n",
              " 'as',\n",
              " 'at',\n",
              " 'be',\n",
              " 'because',\n",
              " 'been',\n",
              " 'before',\n",
              " 'being',\n",
              " 'below',\n",
              " 'between',\n",
              " 'both',\n",
              " 'but',\n",
              " 'by',\n",
              " 'can',\n",
              " 'couldn',\n",
              " \"couldn't\",\n",
              " 'd',\n",
              " 'did',\n",
              " 'didn',\n",
              " \"didn't\",\n",
              " 'do',\n",
              " 'does',\n",
              " 'doesn',\n",
              " \"doesn't\",\n",
              " 'doing',\n",
              " 'don',\n",
              " \"don't\",\n",
              " 'down',\n",
              " 'during',\n",
              " 'each',\n",
              " 'few',\n",
              " 'for',\n",
              " 'from',\n",
              " 'further',\n",
              " 'had',\n",
              " 'hadn',\n",
              " \"hadn't\",\n",
              " 'has',\n",
              " 'hasn',\n",
              " \"hasn't\",\n",
              " 'have',\n",
              " 'haven',\n",
              " \"haven't\",\n",
              " 'having',\n",
              " 'he',\n",
              " 'her',\n",
              " 'here',\n",
              " 'hers',\n",
              " 'herself',\n",
              " 'him',\n",
              " 'himself',\n",
              " 'his',\n",
              " 'how',\n",
              " 'i',\n",
              " 'if',\n",
              " 'in',\n",
              " 'into',\n",
              " 'is',\n",
              " 'isn',\n",
              " \"isn't\",\n",
              " 'it',\n",
              " \"it's\",\n",
              " 'its',\n",
              " 'itself',\n",
              " 'just',\n",
              " 'll',\n",
              " 'm',\n",
              " 'ma',\n",
              " 'me',\n",
              " 'mightn',\n",
              " \"mightn't\",\n",
              " 'more',\n",
              " 'most',\n",
              " 'mustn',\n",
              " \"mustn't\",\n",
              " 'my',\n",
              " 'myself',\n",
              " 'needn',\n",
              " \"needn't\",\n",
              " 'no',\n",
              " 'nor',\n",
              " 'not',\n",
              " 'now',\n",
              " 'o',\n",
              " 'of',\n",
              " 'off',\n",
              " 'on',\n",
              " 'once',\n",
              " 'only',\n",
              " 'or',\n",
              " 'other',\n",
              " 'our',\n",
              " 'ours',\n",
              " 'ourselves',\n",
              " 'out',\n",
              " 'over',\n",
              " 'own',\n",
              " 're',\n",
              " 's',\n",
              " 'same',\n",
              " 'shan',\n",
              " \"shan't\",\n",
              " 'she',\n",
              " \"she's\",\n",
              " 'should',\n",
              " \"should've\",\n",
              " 'shouldn',\n",
              " \"shouldn't\",\n",
              " 'so',\n",
              " 'some',\n",
              " 'such',\n",
              " 't',\n",
              " 'than',\n",
              " 'that',\n",
              " \"that'll\",\n",
              " 'the',\n",
              " 'their',\n",
              " 'theirs',\n",
              " 'them',\n",
              " 'themselves',\n",
              " 'then',\n",
              " 'there',\n",
              " 'these',\n",
              " 'they',\n",
              " 'this',\n",
              " 'those',\n",
              " 'through',\n",
              " 'to',\n",
              " 'too',\n",
              " 'under',\n",
              " 'until',\n",
              " 'up',\n",
              " 've',\n",
              " 'very',\n",
              " 'was',\n",
              " 'wasn',\n",
              " \"wasn't\",\n",
              " 'we',\n",
              " 'were',\n",
              " 'weren',\n",
              " \"weren't\",\n",
              " 'what',\n",
              " 'when',\n",
              " 'where',\n",
              " 'which',\n",
              " 'while',\n",
              " 'who',\n",
              " 'whom',\n",
              " 'why',\n",
              " 'will',\n",
              " 'with',\n",
              " 'won',\n",
              " \"won't\",\n",
              " 'wouldn',\n",
              " \"wouldn't\",\n",
              " 'y',\n",
              " 'you',\n",
              " \"you'd\",\n",
              " \"you'll\",\n",
              " \"you're\",\n",
              " \"you've\",\n",
              " 'your',\n",
              " 'yours',\n",
              " 'yourself',\n",
              " 'yourselves'}"
            ]
          },
          "metadata": {},
          "execution_count": 288
        }
      ]
    },
    {
      "cell_type": "code",
      "source": [
        "# menghapus kata-kata negatif yang dianggap sebagai stopwords\n",
        "stop_words.remove(\"aren't\")\n",
        "stop_words.remove(\"couldn't\")\n",
        "stop_words.remove(\"didn't\")\n",
        "stop_words.remove(\"doesn't\")\n",
        "stop_words.remove(\"don't\")\n",
        "stop_words.remove(\"hadn't\")\n",
        "stop_words.remove(\"hasn't\")\n",
        "stop_words.remove(\"haven't\")\n",
        "stop_words.remove(\"isn't\")\n",
        "stop_words.remove(\"mightn't\")\n",
        "stop_words.remove(\"mustn't\")\n",
        "stop_words.remove(\"needn't\")\n",
        "stop_words.remove(\"shouldn't\")\n",
        "stop_words.remove(\"wasn't\")\n",
        "stop_words.remove(\"weren't\")\n",
        "stop_words.remove(\"won't\")\n",
        "stop_words.remove(\"wouldn't\")\n",
        "stop_words.remove(\"shan't\")\n",
        "stop_words.remove(\"against\")\n",
        "stop_words.remove(\"ain\")\n",
        "stop_words.remove(\"aren\")\n",
        "stop_words.remove(\"couldn\")\n",
        "stop_words.remove(\"didn\")\n",
        "stop_words.remove(\"doesn\")\n",
        "stop_words.remove(\"hadn\")\n",
        "stop_words.remove(\"hasn\")\n",
        "stop_words.remove(\"haven\")\n",
        "stop_words.remove(\"mightn\")\n",
        "stop_words.remove(\"needn\")\n",
        "stop_words.remove(\"shouldn\")\n",
        "stop_words.remove(\"wasn\")\n",
        "stop_words.remove(\"weren\")\n",
        "stop_words.remove(\"wouldn\")\n",
        "stop_words.remove(\"mustn\")\n",
        "stop_words"
      ],
      "metadata": {
        "colab": {
          "base_uri": "https://localhost:8080/"
        },
        "id": "-c-7DMPRBLMM",
        "outputId": "8786500a-0403-4d7b-ac4c-c6ab481e9e7b"
      },
      "execution_count": null,
      "outputs": [
        {
          "output_type": "execute_result",
          "data": {
            "text/plain": [
              "{'a',\n",
              " 'about',\n",
              " 'above',\n",
              " 'after',\n",
              " 'again',\n",
              " 'all',\n",
              " 'am',\n",
              " 'an',\n",
              " 'and',\n",
              " 'any',\n",
              " 'are',\n",
              " 'as',\n",
              " 'at',\n",
              " 'be',\n",
              " 'because',\n",
              " 'been',\n",
              " 'before',\n",
              " 'being',\n",
              " 'below',\n",
              " 'between',\n",
              " 'both',\n",
              " 'but',\n",
              " 'by',\n",
              " 'can',\n",
              " 'd',\n",
              " 'did',\n",
              " 'do',\n",
              " 'does',\n",
              " 'doing',\n",
              " 'don',\n",
              " 'down',\n",
              " 'during',\n",
              " 'each',\n",
              " 'few',\n",
              " 'for',\n",
              " 'from',\n",
              " 'further',\n",
              " 'had',\n",
              " 'has',\n",
              " 'have',\n",
              " 'having',\n",
              " 'he',\n",
              " 'her',\n",
              " 'here',\n",
              " 'hers',\n",
              " 'herself',\n",
              " 'him',\n",
              " 'himself',\n",
              " 'his',\n",
              " 'how',\n",
              " 'i',\n",
              " 'if',\n",
              " 'in',\n",
              " 'into',\n",
              " 'is',\n",
              " 'isn',\n",
              " 'it',\n",
              " \"it's\",\n",
              " 'its',\n",
              " 'itself',\n",
              " 'just',\n",
              " 'll',\n",
              " 'm',\n",
              " 'ma',\n",
              " 'me',\n",
              " 'more',\n",
              " 'most',\n",
              " 'my',\n",
              " 'myself',\n",
              " 'no',\n",
              " 'nor',\n",
              " 'not',\n",
              " 'now',\n",
              " 'o',\n",
              " 'of',\n",
              " 'off',\n",
              " 'on',\n",
              " 'once',\n",
              " 'only',\n",
              " 'or',\n",
              " 'other',\n",
              " 'our',\n",
              " 'ours',\n",
              " 'ourselves',\n",
              " 'out',\n",
              " 'over',\n",
              " 'own',\n",
              " 're',\n",
              " 's',\n",
              " 'same',\n",
              " 'shan',\n",
              " 'she',\n",
              " \"she's\",\n",
              " 'should',\n",
              " \"should've\",\n",
              " 'so',\n",
              " 'some',\n",
              " 'such',\n",
              " 't',\n",
              " 'than',\n",
              " 'that',\n",
              " \"that'll\",\n",
              " 'the',\n",
              " 'their',\n",
              " 'theirs',\n",
              " 'them',\n",
              " 'themselves',\n",
              " 'then',\n",
              " 'there',\n",
              " 'these',\n",
              " 'they',\n",
              " 'this',\n",
              " 'those',\n",
              " 'through',\n",
              " 'to',\n",
              " 'too',\n",
              " 'under',\n",
              " 'until',\n",
              " 'up',\n",
              " 've',\n",
              " 'very',\n",
              " 'was',\n",
              " 'we',\n",
              " 'were',\n",
              " 'what',\n",
              " 'when',\n",
              " 'where',\n",
              " 'which',\n",
              " 'while',\n",
              " 'who',\n",
              " 'whom',\n",
              " 'why',\n",
              " 'will',\n",
              " 'with',\n",
              " 'won',\n",
              " 'y',\n",
              " 'you',\n",
              " \"you'd\",\n",
              " \"you'll\",\n",
              " \"you're\",\n",
              " \"you've\",\n",
              " 'your',\n",
              " 'yours',\n",
              " 'yourself',\n",
              " 'yourselves'}"
            ]
          },
          "metadata": {},
          "execution_count": 289
        }
      ]
    },
    {
      "cell_type": "code",
      "source": [
        "df_rev['clean'] = df_rev['lemmatize'].apply(lambda x: [word for word in x if word not in stop_words])\n",
        "df_rev.head()"
      ],
      "metadata": {
        "colab": {
          "base_uri": "https://localhost:8080/",
          "height": 403
        },
        "id": "uI1jbijBC5zk",
        "outputId": "6c139748-edef-46c0-ca61-9db49cac2dda"
      },
      "execution_count": null,
      "outputs": [
        {
          "output_type": "stream",
          "name": "stderr",
          "text": [
            "/usr/local/lib/python3.7/dist-packages/ipykernel_launcher.py:1: SettingWithCopyWarning: \n",
            "A value is trying to be set on a copy of a slice from a DataFrame.\n",
            "Try using .loc[row_indexer,col_indexer] = value instead\n",
            "\n",
            "See the caveats in the documentation: https://pandas.pydata.org/pandas-docs/stable/user_guide/indexing.html#returning-a-view-versus-a-copy\n",
            "  \"\"\"Entry point for launching an IPython kernel.\n"
          ]
        },
        {
          "output_type": "execute_result",
          "data": {
            "text/html": [
              "<div>\n",
              "<style scoped>\n",
              "    .dataframe tbody tr th:only-of-type {\n",
              "        vertical-align: middle;\n",
              "    }\n",
              "\n",
              "    .dataframe tbody tr th {\n",
              "        vertical-align: top;\n",
              "    }\n",
              "\n",
              "    .dataframe thead th {\n",
              "        text-align: right;\n",
              "    }\n",
              "</style>\n",
              "<table border=\"1\" class=\"dataframe\">\n",
              "  <thead>\n",
              "    <tr style=\"text-align: right;\">\n",
              "      <th></th>\n",
              "      <th>reviewText</th>\n",
              "      <th>rating_prep</th>\n",
              "      <th>no_unwanted</th>\n",
              "      <th>token</th>\n",
              "      <th>stem</th>\n",
              "      <th>lemmatize</th>\n",
              "      <th>clean</th>\n",
              "    </tr>\n",
              "  </thead>\n",
              "  <tbody>\n",
              "    <tr>\n",
              "      <th>0</th>\n",
              "      <td>jace rankin may be short, but he's nothing to ...</td>\n",
              "      <td>0</td>\n",
              "      <td>jace rankin may be shortbut he s nothing to me...</td>\n",
              "      <td>[jace, rankin, may, be, shortbut, he, s, nothi...</td>\n",
              "      <td>[jace, rankin, may, be, shortbut, he, s, noth,...</td>\n",
              "      <td>[jace, rankin, may, be, shortbut, he, s, noth,...</td>\n",
              "      <td>[jace, rankin, may, shortbut, noth, mess, with...</td>\n",
              "    </tr>\n",
              "    <tr>\n",
              "      <th>1</th>\n",
              "      <td>great short read.  i didn't want to put it dow...</td>\n",
              "      <td>1</td>\n",
              "      <td>great short readi didn t want to put it down s...</td>\n",
              "      <td>[great, short, readi, didn, t, want, to, put, ...</td>\n",
              "      <td>[great, short, readi, didn, t, want, to, put, ...</td>\n",
              "      <td>[great, short, readi, didn, t, want, to, put, ...</td>\n",
              "      <td>[great, short, readi, didn, want, put, read, o...</td>\n",
              "    </tr>\n",
              "    <tr>\n",
              "      <th>2</th>\n",
              "      <td>i'll start by saying this is the first of four...</td>\n",
              "      <td>0</td>\n",
              "      <td>i ll start by saying this is the first of four...</td>\n",
              "      <td>[i, ll, start, by, saying, this, is, the, firs...</td>\n",
              "      <td>[i, ll, start, by, say, thi, is, the, first, o...</td>\n",
              "      <td>[i, ll, start, by, say, thi, is, the, first, o...</td>\n",
              "      <td>[start, say, thi, first, four, book, wasn, exp...</td>\n",
              "    </tr>\n",
              "    <tr>\n",
              "      <th>3</th>\n",
              "      <td>aggie is angela lansbury who carries pocketboo...</td>\n",
              "      <td>0</td>\n",
              "      <td>aggie is angela lansbury who carries pocketboo...</td>\n",
              "      <td>[aggie, is, angela, lansbury, who, carries, po...</td>\n",
              "      <td>[aggi, is, angela, lansburi, who, carri, pocke...</td>\n",
              "      <td>[aggi, is, angela, lansburi, who, carri, pocke...</td>\n",
              "      <td>[aggi, angela, lansburi, carri, pocketbook, in...</td>\n",
              "    </tr>\n",
              "    <tr>\n",
              "      <th>4</th>\n",
              "      <td>i did not expect this type of book to be in li...</td>\n",
              "      <td>1</td>\n",
              "      <td>i did not expect this type of book to be in li...</td>\n",
              "      <td>[i, did, not, expect, this, type, of, book, to...</td>\n",
              "      <td>[i, did, not, expect, thi, type, of, book, to,...</td>\n",
              "      <td>[i, did, not, expect, thi, type, of, book, to,...</td>\n",
              "      <td>[expect, thi, type, book, librari, wa, plea, f...</td>\n",
              "    </tr>\n",
              "  </tbody>\n",
              "</table>\n",
              "</div>"
            ],
            "text/plain": [
              "                                          reviewText  ...                                              clean\n",
              "0  jace rankin may be short, but he's nothing to ...  ...  [jace, rankin, may, shortbut, noth, mess, with...\n",
              "1  great short read.  i didn't want to put it dow...  ...  [great, short, readi, didn, want, put, read, o...\n",
              "2  i'll start by saying this is the first of four...  ...  [start, say, thi, first, four, book, wasn, exp...\n",
              "3  aggie is angela lansbury who carries pocketboo...  ...  [aggi, angela, lansburi, carri, pocketbook, in...\n",
              "4  i did not expect this type of book to be in li...  ...  [expect, thi, type, book, librari, wa, plea, f...\n",
              "\n",
              "[5 rows x 7 columns]"
            ]
          },
          "metadata": {},
          "execution_count": 290
        }
      ]
    },
    {
      "cell_type": "code",
      "source": [
        "# Menggabungkan kata-kata menjadi satu kalimat utuh\n",
        "df_rev[\"review\"] = df_rev[\"clean\"].apply(lambda x: \" \".join(x))\n",
        "df_rev.head()"
      ],
      "metadata": {
        "colab": {
          "base_uri": "https://localhost:8080/",
          "height": 472
        },
        "id": "hwRxMBG0C-DV",
        "outputId": "945fd6c2-183c-4360-babf-5329ce27b208"
      },
      "execution_count": null,
      "outputs": [
        {
          "output_type": "stream",
          "name": "stderr",
          "text": [
            "/usr/local/lib/python3.7/dist-packages/ipykernel_launcher.py:2: SettingWithCopyWarning: \n",
            "A value is trying to be set on a copy of a slice from a DataFrame.\n",
            "Try using .loc[row_indexer,col_indexer] = value instead\n",
            "\n",
            "See the caveats in the documentation: https://pandas.pydata.org/pandas-docs/stable/user_guide/indexing.html#returning-a-view-versus-a-copy\n",
            "  \n"
          ]
        },
        {
          "output_type": "execute_result",
          "data": {
            "text/html": [
              "<div>\n",
              "<style scoped>\n",
              "    .dataframe tbody tr th:only-of-type {\n",
              "        vertical-align: middle;\n",
              "    }\n",
              "\n",
              "    .dataframe tbody tr th {\n",
              "        vertical-align: top;\n",
              "    }\n",
              "\n",
              "    .dataframe thead th {\n",
              "        text-align: right;\n",
              "    }\n",
              "</style>\n",
              "<table border=\"1\" class=\"dataframe\">\n",
              "  <thead>\n",
              "    <tr style=\"text-align: right;\">\n",
              "      <th></th>\n",
              "      <th>reviewText</th>\n",
              "      <th>rating_prep</th>\n",
              "      <th>no_unwanted</th>\n",
              "      <th>token</th>\n",
              "      <th>stem</th>\n",
              "      <th>lemmatize</th>\n",
              "      <th>clean</th>\n",
              "      <th>review</th>\n",
              "    </tr>\n",
              "  </thead>\n",
              "  <tbody>\n",
              "    <tr>\n",
              "      <th>0</th>\n",
              "      <td>jace rankin may be short, but he's nothing to ...</td>\n",
              "      <td>0</td>\n",
              "      <td>jace rankin may be shortbut he s nothing to me...</td>\n",
              "      <td>[jace, rankin, may, be, shortbut, he, s, nothi...</td>\n",
              "      <td>[jace, rankin, may, be, shortbut, he, s, noth,...</td>\n",
              "      <td>[jace, rankin, may, be, shortbut, he, s, noth,...</td>\n",
              "      <td>[jace, rankin, may, shortbut, noth, mess, with...</td>\n",
              "      <td>jace rankin may shortbut noth mess witha man w...</td>\n",
              "    </tr>\n",
              "    <tr>\n",
              "      <th>1</th>\n",
              "      <td>great short read.  i didn't want to put it dow...</td>\n",
              "      <td>1</td>\n",
              "      <td>great short readi didn t want to put it down s...</td>\n",
              "      <td>[great, short, readi, didn, t, want, to, put, ...</td>\n",
              "      <td>[great, short, readi, didn, t, want, to, put, ...</td>\n",
              "      <td>[great, short, readi, didn, t, want, to, put, ...</td>\n",
              "      <td>[great, short, readi, didn, want, put, read, o...</td>\n",
              "      <td>great short readi didn want put read one sitti...</td>\n",
              "    </tr>\n",
              "    <tr>\n",
              "      <th>2</th>\n",
              "      <td>i'll start by saying this is the first of four...</td>\n",
              "      <td>0</td>\n",
              "      <td>i ll start by saying this is the first of four...</td>\n",
              "      <td>[i, ll, start, by, saying, this, is, the, firs...</td>\n",
              "      <td>[i, ll, start, by, say, thi, is, the, first, o...</td>\n",
              "      <td>[i, ll, start, by, say, thi, is, the, first, o...</td>\n",
              "      <td>[start, say, thi, first, four, book, wasn, exp...</td>\n",
              "      <td>start say thi first four book wasn expect toco...</td>\n",
              "    </tr>\n",
              "    <tr>\n",
              "      <th>3</th>\n",
              "      <td>aggie is angela lansbury who carries pocketboo...</td>\n",
              "      <td>0</td>\n",
              "      <td>aggie is angela lansbury who carries pocketboo...</td>\n",
              "      <td>[aggie, is, angela, lansbury, who, carries, po...</td>\n",
              "      <td>[aggi, is, angela, lansburi, who, carri, pocke...</td>\n",
              "      <td>[aggi, is, angela, lansburi, who, carri, pocke...</td>\n",
              "      <td>[aggi, angela, lansburi, carri, pocketbook, in...</td>\n",
              "      <td>aggi angela lansburi carri pocketbook instead ...</td>\n",
              "    </tr>\n",
              "    <tr>\n",
              "      <th>4</th>\n",
              "      <td>i did not expect this type of book to be in li...</td>\n",
              "      <td>1</td>\n",
              "      <td>i did not expect this type of book to be in li...</td>\n",
              "      <td>[i, did, not, expect, this, type, of, book, to...</td>\n",
              "      <td>[i, did, not, expect, thi, type, of, book, to,...</td>\n",
              "      <td>[i, did, not, expect, thi, type, of, book, to,...</td>\n",
              "      <td>[expect, thi, type, book, librari, wa, plea, f...</td>\n",
              "      <td>expect thi type book librari wa plea find pric...</td>\n",
              "    </tr>\n",
              "  </tbody>\n",
              "</table>\n",
              "</div>"
            ],
            "text/plain": [
              "                                          reviewText  ...                                             review\n",
              "0  jace rankin may be short, but he's nothing to ...  ...  jace rankin may shortbut noth mess witha man w...\n",
              "1  great short read.  i didn't want to put it dow...  ...  great short readi didn want put read one sitti...\n",
              "2  i'll start by saying this is the first of four...  ...  start say thi first four book wasn expect toco...\n",
              "3  aggie is angela lansbury who carries pocketboo...  ...  aggi angela lansburi carri pocketbook instead ...\n",
              "4  i did not expect this type of book to be in li...  ...  expect thi type book librari wa plea find pric...\n",
              "\n",
              "[5 rows x 8 columns]"
            ]
          },
          "metadata": {},
          "execution_count": 291
        }
      ]
    },
    {
      "cell_type": "markdown",
      "source": [
        "# Eksplorasi Data"
      ],
      "metadata": {
        "id": "aYnrVZSrBzLQ"
      }
    },
    {
      "cell_type": "code",
      "source": [
        "# plot banyaknya rating dari data\n",
        "label_rating = df_rev['rating_prep'].value_counts()\n",
        "label_rating.plot(kind='bar')\n",
        "plt.show()"
      ],
      "metadata": {
        "colab": {
          "base_uri": "https://localhost:8080/",
          "height": 262
        },
        "id": "te_DCnRaB48M",
        "outputId": "72bbe71a-b5d8-4dfa-a09e-c53f73ac7286"
      },
      "execution_count": null,
      "outputs": [
        {
          "output_type": "display_data",
          "data": {
            "image/png": "[encoded data removed]",
            "text/plain": [
              "<Figure size 432x288 with 1 Axes>"
            ]
          },
          "metadata": {
            "needs_background": "light"
          }
        }
      ]
    },
    {
      "cell_type": "code",
      "source": [
        "# melihat persebaran banyaknya kata yang digunakan dalam reviewText sebelum dibersihkan\n",
        "\n",
        "count_words = df_rev['reviewText'].apply(lambda x: len(x))\n",
        "\n",
        "plt.subplots(figsize=(15,5))\n",
        "sns.distplot(count_words, color='Blue')\n",
        "plt.title('Persebaran banyaknya kata dalam review')\n",
        "plt.xlabel('Jumlah Kata')\n",
        "plt.show()"
      ],
      "metadata": {
        "colab": {
          "base_uri": "https://localhost:8080/",
          "height": 350
        },
        "id": "iT5uk42kB_Es",
        "outputId": "a8bc2ecd-f51d-4e9f-e43f-023dcb9e6d16"
      },
      "execution_count": null,
      "outputs": [
        {
          "output_type": "display_data",
          "data": {
            "image/png": "[encoded data removed]",
            "text/plain": [
              "<Figure size 1080x360 with 1 Axes>"
            ]
          },
          "metadata": {
            "needs_background": "light"
          }
        }
      ]
    },
    {
      "cell_type": "code",
      "source": [
        "# melihat persebaran banyaknya kata yang digunakan dalam review setelah dibersihkan\n",
        "\n",
        "count_words = df_rev['review'].apply(lambda x: len(x))\n",
        "\n",
        "plt.subplots(figsize=(15,5))\n",
        "sns.distplot(count_words, color='Blue')\n",
        "plt.title('Persebaran banyaknya kata dalam review')\n",
        "plt.xlabel('Jumlah Kata')\n",
        "plt.show()"
      ],
      "metadata": {
        "colab": {
          "base_uri": "https://localhost:8080/",
          "height": 350
        },
        "id": "E04kazOPCNXc",
        "outputId": "594f2fb3-d6e0-4933-cdf2-ba772a652cd3"
      },
      "execution_count": null,
      "outputs": [
        {
          "output_type": "display_data",
          "data": {
            "image/png": "[encoded data removed]",
            "text/plain": [
              "<Figure size 1080x360 with 1 Axes>"
            ]
          },
          "metadata": {
            "needs_background": "light"
          }
        }
      ]
    },
    {
      "cell_type": "code",
      "source": [
        "# melihat banyaknya input kata yang digunakan saat mereview berdasarkan rating sebelum dibersihkan\n",
        "\n",
        "positif = df_rev[df_rev['rating_prep'] ==1 ]\n",
        "negatif = df_rev[df_rev['rating_prep'] == 0]\n",
        "\n",
        "count_positif = positif['reviewText'].apply(lambda x: len(x))\n",
        "count_negatif = negatif['reviewText'].apply(lambda x: len(x))\n",
        "\n",
        "fig, (ax1, ax2)=plt.subplots(1,2,figsize=(15,5))\n",
        "sns.distplot(count_positif, ax=ax1, color='Blue')\n",
        "ax1.set_title('Positive')\n",
        "sns.distplot(count_negatif, ax=ax2, color='Red')\n",
        "ax2.set_title('Negative')\n",
        "plt.show()"
      ],
      "metadata": {
        "colab": {
          "base_uri": "https://localhost:8080/",
          "height": 350
        },
        "id": "QXJI4NrsDJOM",
        "outputId": "6200e8ad-d0e9-4220-9eee-981be6175161"
      },
      "execution_count": null,
      "outputs": [
        {
          "output_type": "display_data",
          "data": {
            "image/png": "[encoded data removed]",
            "text/plain": [
              "<Figure size 1080x360 with 2 Axes>"
            ]
          },
          "metadata": {
            "needs_background": "light"
          }
        }
      ]
    },
    {
      "cell_type": "code",
      "source": [
        "# melihat banyaknya input kata yang digunakan saat mereview berdasarkan rating setelah dibersihkan\n",
        "\n",
        "count_positif_ = positif['review'].apply(lambda x: len(x))\n",
        "count_negatif_ = negatif['review'].apply(lambda x: len(x))\n",
        "\n",
        "fig, (ax1, ax2)=plt.subplots(1,2,figsize=(15,5))\n",
        "sns.distplot(count_positif_, ax=ax1, color='Blue')\n",
        "ax1.set_title('Positive')\n",
        "sns.distplot(count_negatif_, ax=ax2, color='Red')\n",
        "ax2.set_title('Negative')\n",
        "plt.show()"
      ],
      "metadata": {
        "colab": {
          "base_uri": "https://localhost:8080/",
          "height": 350
        },
        "id": "5FTysYdFDi7l",
        "outputId": "495acd89-89ef-401e-9de7-c5a4adcc437f"
      },
      "execution_count": null,
      "outputs": [
        {
          "output_type": "display_data",
          "data": {
            "image/png": "[encoded data removed]",
            "text/plain": [
              "<Figure size 1080x360 with 2 Axes>"
            ]
          },
          "metadata": {
            "needs_background": "light"
          }
        }
      ]
    },
    {
      "cell_type": "markdown",
      "source": [
        "# Feature Engineering"
      ],
      "metadata": {
        "id": "2XvNbCoPESSm"
      }
    },
    {
      "cell_type": "markdown",
      "source": [
        "### Using N-gram"
      ],
      "metadata": {
        "id": "f2tySv_uwm6-"
      }
    },
    {
      "cell_type": "code",
      "source": [
        "# Mencari tf-idf dengan menggunakan unigram dan bigram\n",
        "start_time = datetime.now()\n",
        "tfidf_vect_2 = TfidfVectorizer(ngram_range=(1,2))\n",
        "tfidf_2 = tfidf_vect_2.fit_transform(df_rev[\"review\"])\n",
        "tfidf_2.shape\n",
        "end_time = datetime.now()\n",
        "print('Waktu yang diperlukan: {}'.format(end_time - start_time))"
      ],
      "metadata": {
        "colab": {
          "base_uri": "https://localhost:8080/"
        },
        "id": "G9jJLKWJEVp8",
        "outputId": "c84eb719-fa85-4032-e71d-9e56e7787c33"
      },
      "execution_count": null,
      "outputs": [
        {
          "output_type": "stream",
          "name": "stdout",
          "text": [
            "Waktu yang diperlukan: 0:00:04.212015\n"
          ]
        }
      ]
    },
    {
      "cell_type": "code",
      "source": [
        "from sklearn.feature_extraction.text import TfidfTransformer\n",
        "tfidf = TfidfTransformer()\n",
        "tfidfVal = tfidf.fit_transform(tfidf_2)\n",
        "print(tfidfVal.shape)"
      ],
      "metadata": {
        "colab": {
          "base_uri": "https://localhost:8080/"
        },
        "id": "LOlcrBv1t1Pm",
        "outputId": "2440d093-dc86-4ddc-b6e0-cc217ba134c3"
      },
      "execution_count": null,
      "outputs": [
        {
          "output_type": "stream",
          "name": "stdout",
          "text": [
            "(12000, 534671)\n"
          ]
        }
      ]
    },
    {
      "cell_type": "code",
      "source": [
        "# membagi train test data (tfidf dengan unigram dan bigram)\n",
        "X = tfidfVal\n",
        "y = df_rev['rating_prep']\n",
        "\n",
        "x_train_ngram, x_test_ngram, y_train_ngram, y_test_ngram = train_test_split(X, y, test_size=0.2)\n",
        "\n",
        "print(\"X Train : \", (x_train_ngram.shape))\n",
        "print(\"y Train : \", (y_train_ngram.shape))\n",
        "print(\"X Test : \", (x_test_ngram.shape))\n",
        "print(\"y Test : \", (y_test_ngram.shape))"
      ],
      "metadata": {
        "colab": {
          "base_uri": "https://localhost:8080/"
        },
        "id": "1tTXh1DHEunq",
        "outputId": "6820bde1-b931-4853-f50d-1fd2eb237c34"
      },
      "execution_count": null,
      "outputs": [
        {
          "output_type": "stream",
          "name": "stdout",
          "text": [
            "X Train :  (9600, 534671)\n",
            "y Train :  (9600,)\n",
            "X Test :  (2400, 534671)\n",
            "y Test :  (2400,)\n"
          ]
        }
      ]
    },
    {
      "cell_type": "markdown",
      "source": [
        "### Neural Based"
      ],
      "metadata": {
        "id": "sgspOZkp7Ymj"
      }
    },
    {
      "cell_type": "code",
      "source": [
        "!pip install spacy\n",
        "!python -m spacy download en_core_web_lg"
      ],
      "metadata": {
        "id": "zvW7RAPXMd-k"
      },
      "execution_count": null,
      "outputs": []
    },
    {
      "cell_type": "code",
      "source": [
        "import spacy\n",
        "import en_core_web_lg\n",
        "nlp = en_core_web_lg.load()"
      ],
      "metadata": {
        "id": "AtDdztvgMgrc"
      },
      "execution_count": null,
      "outputs": []
    },
    {
      "cell_type": "code",
      "source": [
        "def get_vec(x):\n",
        "  doc = nlp(x)\n",
        "  vec = doc.vector\n",
        "  return vec"
      ],
      "metadata": {
        "id": "kw4P-V4FL_Ys"
      },
      "execution_count": null,
      "outputs": []
    },
    {
      "cell_type": "code",
      "source": [
        "start_time = datetime.now()\n",
        "df_rev['vec'] = df_rev['review'].apply(lambda x: get_vec(x))\n",
        "end_time = datetime.now()\n",
        "print('Waktu yang diperlukan: {}'.format(end_time - start_time))"
      ],
      "metadata": {
        "colab": {
          "base_uri": "https://localhost:8080/"
        },
        "id": "2Iidip6aMAra",
        "outputId": "4e50caf2-6184-47c1-dbbe-a5d7df1e6703"
      },
      "execution_count": null,
      "outputs": [
        {
          "output_type": "stream",
          "name": "stdout",
          "text": [
            "Waktu yang diperlukan: 0:03:26.429162\n"
          ]
        },
        {
          "output_type": "stream",
          "name": "stderr",
          "text": [
            "/usr/local/lib/python3.7/dist-packages/ipykernel_launcher.py:2: SettingWithCopyWarning: \n",
            "A value is trying to be set on a copy of a slice from a DataFrame.\n",
            "Try using .loc[row_indexer,col_indexer] = value instead\n",
            "\n",
            "See the caveats in the documentation: https://pandas.pydata.org/pandas-docs/stable/user_guide/indexing.html#returning-a-view-versus-a-copy\n",
            "  \n"
          ]
        }
      ]
    },
    {
      "cell_type": "code",
      "source": [
        "df_rev.head()"
      ],
      "metadata": {
        "colab": {
          "base_uri": "https://localhost:8080/",
          "height": 380
        },
        "id": "0Tsma_e6RCY9",
        "outputId": "be423608-9623-44c0-9cd0-9cffadfa5bfb"
      },
      "execution_count": null,
      "outputs": [
        {
          "output_type": "execute_result",
          "data": {
            "text/html": [
              "<div>\n",
              "<style scoped>\n",
              "    .dataframe tbody tr th:only-of-type {\n",
              "        vertical-align: middle;\n",
              "    }\n",
              "\n",
              "    .dataframe tbody tr th {\n",
              "        vertical-align: top;\n",
              "    }\n",
              "\n",
              "    .dataframe thead th {\n",
              "        text-align: right;\n",
              "    }\n",
              "</style>\n",
              "<table border=\"1\" class=\"dataframe\">\n",
              "  <thead>\n",
              "    <tr style=\"text-align: right;\">\n",
              "      <th></th>\n",
              "      <th>reviewText</th>\n",
              "      <th>rating_prep</th>\n",
              "      <th>no_unwanted</th>\n",
              "      <th>token</th>\n",
              "      <th>stem</th>\n",
              "      <th>lemmatize</th>\n",
              "      <th>clean</th>\n",
              "      <th>review</th>\n",
              "      <th>vec</th>\n",
              "    </tr>\n",
              "  </thead>\n",
              "  <tbody>\n",
              "    <tr>\n",
              "      <th>0</th>\n",
              "      <td>jace rankin may be short, but he's nothing to ...</td>\n",
              "      <td>0</td>\n",
              "      <td>jace rankin may be shortbut he s nothing to me...</td>\n",
              "      <td>[jace, rankin, may, be, shortbut, he, s, nothi...</td>\n",
              "      <td>[jace, rankin, may, be, shortbut, he, s, noth,...</td>\n",
              "      <td>[jace, rankin, may, be, shortbut, he, s, noth,...</td>\n",
              "      <td>[jace, rankin, may, shortbut, noth, mess, with...</td>\n",
              "      <td>jace rankin may shortbut noth mess witha man w...</td>\n",
              "      <td>[-0.031910267, 0.06658661, -0.10255583, -0.052...</td>\n",
              "    </tr>\n",
              "    <tr>\n",
              "      <th>1</th>\n",
              "      <td>great short read.  i didn't want to put it dow...</td>\n",
              "      <td>1</td>\n",
              "      <td>great short readi didn t want to put it down s...</td>\n",
              "      <td>[great, short, readi, didn, t, want, to, put, ...</td>\n",
              "      <td>[great, short, readi, didn, t, want, to, put, ...</td>\n",
              "      <td>[great, short, readi, didn, t, want, to, put, ...</td>\n",
              "      <td>[great, short, readi, didn, want, put, read, o...</td>\n",
              "      <td>great short readi didn want put read one sitti...</td>\n",
              "      <td>[0.009384433, 0.13183084, -0.14968857, -0.0261...</td>\n",
              "    </tr>\n",
              "    <tr>\n",
              "      <th>2</th>\n",
              "      <td>i'll start by saying this is the first of four...</td>\n",
              "      <td>0</td>\n",
              "      <td>i ll start by saying this is the first of four...</td>\n",
              "      <td>[i, ll, start, by, saying, this, is, the, firs...</td>\n",
              "      <td>[i, ll, start, by, say, thi, is, the, first, o...</td>\n",
              "      <td>[i, ll, start, by, say, thi, is, the, first, o...</td>\n",
              "      <td>[start, say, thi, first, four, book, wasn, exp...</td>\n",
              "      <td>start say thi first four book wasn expect toco...</td>\n",
              "      <td>[0.00957457, 0.11897439, -0.18392138, -0.04472...</td>\n",
              "    </tr>\n",
              "    <tr>\n",
              "      <th>3</th>\n",
              "      <td>aggie is angela lansbury who carries pocketboo...</td>\n",
              "      <td>0</td>\n",
              "      <td>aggie is angela lansbury who carries pocketboo...</td>\n",
              "      <td>[aggie, is, angela, lansbury, who, carries, po...</td>\n",
              "      <td>[aggi, is, angela, lansburi, who, carri, pocke...</td>\n",
              "      <td>[aggi, is, angela, lansburi, who, carri, pocke...</td>\n",
              "      <td>[aggi, angela, lansburi, carri, pocketbook, in...</td>\n",
              "      <td>aggi angela lansburi carri pocketbook instead ...</td>\n",
              "      <td>[-0.025091577, 0.104308456, -0.012502388, -0.0...</td>\n",
              "    </tr>\n",
              "    <tr>\n",
              "      <th>4</th>\n",
              "      <td>i did not expect this type of book to be in li...</td>\n",
              "      <td>1</td>\n",
              "      <td>i did not expect this type of book to be in li...</td>\n",
              "      <td>[i, did, not, expect, this, type, of, book, to...</td>\n",
              "      <td>[i, did, not, expect, thi, type, of, book, to,...</td>\n",
              "      <td>[i, did, not, expect, thi, type, of, book, to,...</td>\n",
              "      <td>[expect, thi, type, book, librari, wa, plea, f...</td>\n",
              "      <td>expect thi type book librari wa plea find pric...</td>\n",
              "      <td>[-0.1730852, 0.1493309, -0.13972282, -0.130633...</td>\n",
              "    </tr>\n",
              "  </tbody>\n",
              "</table>\n",
              "</div>"
            ],
            "text/plain": [
              "                                          reviewText  ...                                                vec\n",
              "0  jace rankin may be short, but he's nothing to ...  ...  [-0.031910267, 0.06658661, -0.10255583, -0.052...\n",
              "1  great short read.  i didn't want to put it dow...  ...  [0.009384433, 0.13183084, -0.14968857, -0.0261...\n",
              "2  i'll start by saying this is the first of four...  ...  [0.00957457, 0.11897439, -0.18392138, -0.04472...\n",
              "3  aggie is angela lansbury who carries pocketboo...  ...  [-0.025091577, 0.104308456, -0.012502388, -0.0...\n",
              "4  i did not expect this type of book to be in li...  ...  [-0.1730852, 0.1493309, -0.13972282, -0.130633...\n",
              "\n",
              "[5 rows x 9 columns]"
            ]
          },
          "metadata": {},
          "execution_count": 304
        }
      ]
    },
    {
      "cell_type": "code",
      "source": [
        "X = df_rev['vec'].to_numpy()\n",
        "X = X.reshape(-1, 1)"
      ],
      "metadata": {
        "id": "KEYEhJmYNqWW"
      },
      "execution_count": null,
      "outputs": []
    },
    {
      "cell_type": "code",
      "source": [
        "X.shape"
      ],
      "metadata": {
        "colab": {
          "base_uri": "https://localhost:8080/"
        },
        "id": "kEOQm8W4NznT",
        "outputId": "313de4d8-e247-4423-cb26-89eb31a23696"
      },
      "execution_count": null,
      "outputs": [
        {
          "output_type": "execute_result",
          "data": {
            "text/plain": [
              "(12000, 1)"
            ]
          },
          "metadata": {},
          "execution_count": 306
        }
      ]
    },
    {
      "cell_type": "code",
      "source": [
        "X = np.concatenate(np.concatenate(X, axis = 0), axis = 0).reshape(-1, 300)"
      ],
      "metadata": {
        "id": "Id4h3tV7N2ao"
      },
      "execution_count": null,
      "outputs": []
    },
    {
      "cell_type": "code",
      "source": [
        "x_train_nn, x_test_nn, y_train_nn, y_test_nn = train_test_split(X, df_rev['rating_prep'], test_size = 0.2)\n",
        "print(\"X Train : \", (x_train_nn.shape))\n",
        "print(\"y Train : \", (y_train_nn.shape))\n",
        "print(\"X Test : \", (x_test_nn.shape))\n",
        "print(\"y Test : \", (y_test_nn.shape))"
      ],
      "metadata": {
        "colab": {
          "base_uri": "https://localhost:8080/"
        },
        "id": "HbQ_D1qvN4zY",
        "outputId": "6b97880e-a330-48e0-9de4-b46c88fa921b"
      },
      "execution_count": null,
      "outputs": [
        {
          "output_type": "stream",
          "name": "stdout",
          "text": [
            "X Train :  (9600, 300)\n",
            "y Train :  (9600,)\n",
            "X Test :  (2400, 300)\n",
            "y Test :  (2400,)\n"
          ]
        }
      ]
    },
    {
      "cell_type": "code",
      "source": [
        "x_train_nn.shape, x_test_nn.shape"
      ],
      "metadata": {
        "colab": {
          "base_uri": "https://localhost:8080/"
        },
        "id": "z6SCwoHpN7_o",
        "outputId": "c778f66e-d66d-48c4-e02e-1bf09f365b19"
      },
      "execution_count": null,
      "outputs": [
        {
          "output_type": "execute_result",
          "data": {
            "text/plain": [
              "((9600, 300), (2400, 300))"
            ]
          },
          "metadata": {},
          "execution_count": 309
        }
      ]
    },
    {
      "cell_type": "markdown",
      "source": [
        "# Modelling"
      ],
      "metadata": {
        "id": "oZPNCLsD7pgU"
      }
    },
    {
      "cell_type": "code",
      "source": [
        "# Modelling dengan Random Forest Ngram\n",
        "start_time = datetime.now()\n",
        "rfc_ngram = RandomForestClassifier(random_state=0).fit(x_train_ngram,y_train_ngram)\n",
        "predicted_rfc_ngram=rfc_ngram.predict(x_test_ngram)\n",
        "print('******** Random Forest Classifier N gram **********')\n",
        "print('MultinomialRFC Accuracy:', accuracy_score(y_test_ngram, predicted_rfc_ngram))\n",
        "print('MultinomialRFC Precision:', precision_score(y_test_ngram, predicted_rfc_ngram, average=None))\n",
        "print('MultinomialRFC Recall:', recall_score(y_test_ngram, predicted_rfc_ngram, average=None))\n",
        "print('MultinomialRFC f1_score:', f1_score(y_test_ngram, predicted_rfc_ngram, average=None))\n",
        "end_time = datetime.now()\n",
        "print('Waktu yang diperlukan: {}'.format(end_time - start_time))"
      ],
      "metadata": {
        "colab": {
          "base_uri": "https://localhost:8080/"
        },
        "id": "JJCJXjhSPUsZ",
        "outputId": "96a0609b-cf87-4966-8252-608a27b80914"
      },
      "execution_count": null,
      "outputs": [
        {
          "output_type": "stream",
          "name": "stdout",
          "text": [
            "******** Random Forest Classifier N gram **********\n",
            "MultinomialRFC Accuracy: 0.7870833333333334\n",
            "MultinomialRFC Precision: [0.77313677 0.80152672]\n",
            "MultinomialRFC Recall: [0.80135823 0.77332242]\n",
            "MultinomialRFC f1_score: [0.78699458 0.78717201]\n",
            "Waktu yang diperlukan: 0:03:38.221541\n"
          ]
        }
      ]
    },
    {
      "cell_type": "code",
      "source": [
        "# Modelling dengan Random Forest Neural Based\n",
        "start_time = datetime.now()\n",
        "rfc_nn = RandomForestClassifier(random_state=0).fit(x_train_nn,y_train_nn)\n",
        "predicted_rfc_nn=rfc_nn.predict(x_test_nn)\n",
        "print('******** Random Forest Classifier Neural Based **********')\n",
        "print('MultinomialRFC Accuracy:', accuracy_score(y_test_nn, predicted_rfc_nn))\n",
        "print('MultinomialRFC Precision:', precision_score(y_test_nn, predicted_rfc_nn, average=None))\n",
        "print('MultinomialRFC Recall:', recall_score(y_test_nn, predicted_rfc_nn, average=None))\n",
        "print('MultinomialRFC f1_score:', f1_score(y_test_nn, predicted_rfc_nn, average=None))\n",
        "end_time = datetime.now()\n",
        "print('Waktu yang diperlukan: {}'.format(end_time - start_time))"
      ],
      "metadata": {
        "colab": {
          "base_uri": "https://localhost:8080/"
        },
        "id": "L4mVkRc_VB4f",
        "outputId": "059311fd-d1ae-428b-ad1c-26d0ff87fdd4"
      },
      "execution_count": null,
      "outputs": [
        {
          "output_type": "stream",
          "name": "stdout",
          "text": [
            "******** Random Forest Classifier Neural Based **********\n",
            "MultinomialRFC Accuracy: 0.7354166666666667\n",
            "MultinomialRFC Precision: [0.72697095 0.74393305]\n",
            "MultinomialRFC Recall: [0.74111675 0.72988506]\n",
            "MultinomialRFC f1_score: [0.7339757  0.73684211]\n",
            "Waktu yang diperlukan: 0:00:15.767274\n"
          ]
        }
      ]
    },
    {
      "cell_type": "markdown",
      "source": [
        "# Evaluasi"
      ],
      "metadata": {
        "id": "Kpo2pUglByku"
      }
    },
    {
      "cell_type": "code",
      "source": [
        "print('******** Random Forest Classifier N gram **********')\n",
        "print('MultinomialRFC Accuracy:', accuracy_score(y_test_ngram, predicted_rfc_ngram))\n",
        "print('MultinomialRFC Precision:', precision_score(y_test_ngram, predicted_rfc_ngram, average=None))\n",
        "print('MultinomialRFC Recall:', recall_score(y_test_ngram, predicted_rfc_ngram, average=None))\n",
        "print('MultinomialRFC f1_score:', f1_score(y_test_ngram, predicted_rfc_ngram, average=None))\n",
        "print('******** Random Forest Classifier Neural Based **********')\n",
        "print('MultinomialRFC Accuracy:', accuracy_score(y_test_nn, predicted_rfc_nn))\n",
        "print('MultinomialRFC Precision:', precision_score(y_test_nn, predicted_rfc_nn, average=None))\n",
        "print('MultinomialRFC Recall:', recall_score(y_test_nn, predicted_rfc_nn, average=None))\n",
        "print('MultinomialRFC f1_score:', f1_score(y_test_nn, predicted_rfc_nn, average=None))"
      ],
      "metadata": {
        "colab": {
          "base_uri": "https://localhost:8080/"
        },
        "id": "mw-JfxD0B1Ra",
        "outputId": "89287e09-3abf-4e42-fb26-bf9817ed4fe4"
      },
      "execution_count": null,
      "outputs": [
        {
          "output_type": "stream",
          "name": "stdout",
          "text": [
            "******** Random Forest Classifier N gram **********\n",
            "MultinomialRFC Accuracy: 0.7870833333333334\n",
            "MultinomialRFC Precision: [0.77313677 0.80152672]\n",
            "MultinomialRFC Recall: [0.80135823 0.77332242]\n",
            "MultinomialRFC f1_score: [0.78699458 0.78717201]\n",
            "******** Random Forest Classifier Neural Based **********\n",
            "MultinomialRFC Accuracy: 0.7354166666666667\n",
            "MultinomialRFC Precision: [0.72697095 0.74393305]\n",
            "MultinomialRFC Recall: [0.74111675 0.72988506]\n",
            "MultinomialRFC f1_score: [0.7339757  0.73684211]\n"
          ]
        }
      ]
    },
    {
      "cell_type": "code",
      "source": [
        "# classification report Random Forest (Ngram)\n",
        "print(classification_report(y_test_ngram, predicted_rfc_ngram))"
      ],
      "metadata": {
        "colab": {
          "base_uri": "https://localhost:8080/"
        },
        "id": "VkaH-jNfCArf",
        "outputId": "cc56591d-89d2-4a9b-9604-c8ec7fe5328b"
      },
      "execution_count": null,
      "outputs": [
        {
          "output_type": "stream",
          "name": "stdout",
          "text": [
            "              precision    recall  f1-score   support\n",
            "\n",
            "           0       0.77      0.80      0.79      1178\n",
            "           1       0.80      0.77      0.79      1222\n",
            "\n",
            "    accuracy                           0.79      2400\n",
            "   macro avg       0.79      0.79      0.79      2400\n",
            "weighted avg       0.79      0.79      0.79      2400\n",
            "\n"
          ]
        }
      ]
    },
    {
      "cell_type": "code",
      "source": [
        "#clasification report Neural Based\n",
        "print(classification_report(y_test_nn, predicted_rfc_nn))"
      ],
      "metadata": {
        "colab": {
          "base_uri": "https://localhost:8080/"
        },
        "id": "pZs0srU3CGJ2",
        "outputId": "86b21427-8115-4e50-cbff-376fee7a44e6"
      },
      "execution_count": null,
      "outputs": [
        {
          "output_type": "stream",
          "name": "stdout",
          "text": [
            "              precision    recall  f1-score   support\n",
            "\n",
            "           0       0.73      0.74      0.73      1182\n",
            "           1       0.74      0.73      0.74      1218\n",
            "\n",
            "    accuracy                           0.74      2400\n",
            "   macro avg       0.74      0.74      0.74      2400\n",
            "weighted avg       0.74      0.74      0.74      2400\n",
            "\n"
          ]
        }
      ]
    },
    {
      "cell_type": "code",
      "source": [
        "# confusion matrix of Random Forest (Ngram)\n",
        "cm = confusion_matrix(y_test_ngram,predicted_rfc_ngram)\n",
        "sns.heatmap(cm,cmap='BuPu',annot=True,fmt='d')"
      ],
      "metadata": {
        "colab": {
          "base_uri": "https://localhost:8080/",
          "height": 284
        },
        "id": "LEuD32llc9hL",
        "outputId": "6ddb51b7-ba59-42c0-d3d4-8fe03f512e14"
      },
      "execution_count": null,
      "outputs": [
        {
          "output_type": "execute_result",
          "data": {
            "text/plain": [
              "<matplotlib.axes._subplots.AxesSubplot at 0x7f23c700c790>"
            ]
          },
          "metadata": {},
          "execution_count": 315
        },
        {
          "output_type": "display_data",
          "data": {
            "image/png": "[encoded data removed]",
            "text/plain": [
              "<Figure size 432x288 with 2 Axes>"
            ]
          },
          "metadata": {
            "needs_background": "light"
          }
        }
      ]
    },
    {
      "cell_type": "code",
      "source": [
        "# confusion matrix of Random Forest (Neural Based)\n",
        "cm = confusion_matrix(y_test_nn,predicted_rfc_nn)\n",
        "sns.heatmap(cm,cmap='BuPu',annot=True,fmt='d')"
      ],
      "metadata": {
        "colab": {
          "base_uri": "https://localhost:8080/",
          "height": 284
        },
        "id": "Mr70MXirdJ3d",
        "outputId": "b0c8ffc8-a639-4da4-f0f3-5e73cbad3b5f"
      },
      "execution_count": null,
      "outputs": [
        {
          "output_type": "execute_result",
          "data": {
            "text/plain": [
              "<matplotlib.axes._subplots.AxesSubplot at 0x7f23c72f90d0>"
            ]
          },
          "metadata": {},
          "execution_count": 316
        },
        {
          "output_type": "display_data",
          "data": {
            "image/png": "[encoded data removed]",
            "text/plain": [
              "<Figure size 432x288 with 2 Axes>"
            ]
          },
          "metadata": {
            "needs_background": "light"
          }
        }
      ]
    }
  ]
}